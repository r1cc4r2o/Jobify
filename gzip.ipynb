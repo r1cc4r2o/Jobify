{
 "cells": [
  {
   "cell_type": "code",
   "execution_count": 1,
   "metadata": {},
   "outputs": [],
   "source": [
    "import gzip\n",
    "\n",
    "with gzip.open(\"./KB_user_profiles_smaller.csv.gz\", 'rb') as gzipped_file:\n",
    "        with open(\"./KB_user_profiles_smaller.csv\", 'wb') as decompressed_file:\n",
    "            decompressed_file.write(gzipped_file.read())\n"
   ]
  }
 ],
 "metadata": {
  "kernelspec": {
   "display_name": "hmd",
   "language": "python",
   "name": "python3"
  },
  "language_info": {
   "codemirror_mode": {
    "name": "ipython",
    "version": 3
   },
   "file_extension": ".py",
   "mimetype": "text/x-python",
   "name": "python",
   "nbconvert_exporter": "python",
   "pygments_lexer": "ipython3",
   "version": "3.10.13"
  }
 },
 "nbformat": 4,
 "nbformat_minor": 2
}
