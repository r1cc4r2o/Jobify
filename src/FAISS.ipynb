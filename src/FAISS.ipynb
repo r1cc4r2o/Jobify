{
 "cells": [
  {
   "cell_type": "markdown",
   "metadata": {},
   "source": [
    "### Install packages"
   ]
  },
  {
   "cell_type": "code",
   "execution_count": null,
   "metadata": {},
   "outputs": [],
   "source": [
    "%%bash\n",
    "pip install -qqq torch\n",
    "pip install -qqq transformers\n",
    "pip install -qqq sentence-transformers\n",
    "pip install -qqq datasets\n",
    "pip install -qqq faiss-cpu\n",
    "pip install -qqq bitsandbytes\n",
    "pip install -qqq accelerate\n",
    "pip install -qqq nvidia-ml-py3\n",
    "pip install -qqq langchain"
   ]
  },
  {
   "cell_type": "markdown",
   "metadata": {},
   "source": [
    "### Imports"
   ]
  },
  {
   "cell_type": "code",
   "execution_count": 1,
   "metadata": {},
   "outputs": [
    {
     "name": "stderr",
     "output_type": "stream",
     "text": [
      "/home/andrea/anaconda3/envs/hmd/lib/python3.10/site-packages/tqdm/auto.py:21: TqdmWarning: IProgress not found. Please update jupyter and ipywidgets. See https://ipywidgets.readthedocs.io/en/stable/user_install.html\n",
      "  from .autonotebook import tqdm as notebook_tqdm\n"
     ]
    }
   ],
   "source": [
    "import psutil\n",
    "import warnings\n",
    "import nvidia_smi\n",
    "\n",
    "import torch\n",
    "import gzip\n",
    "import shutil\n",
    "\n",
    "from transformers import AutoTokenizer, AutoModelForCausalLM, BitsAndBytesConfig, pipeline\n",
    "from time  import time\n",
    "\n",
    "from langchain.vectorstores import FAISS\n",
    "from langchain.embeddings import HuggingFaceEmbeddings\n",
    "from langchain.llms import HuggingFacePipeline\n",
    "from langchain.prompts import PromptTemplate\n",
    "from langchain.schema.runnable import RunnablePassthrough\n",
    "from langchain.chains import  LLMChain\n",
    "from langchain_community.document_loaders.csv_loader import CSVLoader"
   ]
  },
  {
   "cell_type": "markdown",
   "metadata": {},
   "source": [
    "### Utils"
   ]
  },
  {
   "cell_type": "code",
   "execution_count": 2,
   "metadata": {},
   "outputs": [
    {
     "name": "stdout",
     "output_type": "stream",
     "text": [
      "Current CPU usage: 0.3%\n",
      "Current RAM usage: 1.78 GB/15.50 GB\n",
      "b'NVIDIA GeForce RTX 3070 Ti', Memory : (86.89% free): 8.00GB (total), 6.95GB (free), 1.05GB (used)\n"
     ]
    }
   ],
   "source": [
    "def show_usage():\n",
    "  print(f\"Current CPU usage: {psutil.cpu_percent(3)}%\")\n",
    "  print(f\"Current RAM usage: {psutil.virtual_memory()[3]/pow(1024,3):.2f} GB/{psutil.virtual_memory()[0]/pow(1024,3):.2f} GB\")\n",
    "\n",
    "  nvidia_smi.nvmlInit()\n",
    "\n",
    "  deviceCount = nvidia_smi.nvmlDeviceGetCount()\n",
    "  for i in range(deviceCount):\n",
    "      handle = nvidia_smi.nvmlDeviceGetHandleByIndex(i)\n",
    "      info = nvidia_smi.nvmlDeviceGetMemoryInfo(handle)\n",
    "      print(\"{}, Memory : ({:.2f}% free): {:.2f}GB (total), {:.2f}GB (free), {:.2f}GB (used)\".format(nvidia_smi.nvmlDeviceGetName(handle), 100*info.free/info.total, info.total/pow(1024,3), info.free/pow(1024,3), info.used/pow(1024,3)))\n",
    "\n",
    "  nvidia_smi.nvmlShutdown()\n",
    "\n",
    "def unzip_gzip(file_path):\n",
    "  with gzip.open(file_path, 'rb') as f_in:\n",
    "      with open(file_path[:-3], 'wb') as f_out:\n",
    "          shutil.copyfileobj(f_in, f_out)\n",
    "  return file_path[:-3]\n",
    "\n",
    "warnings.filterwarnings('ignore')\n",
    "\n",
    "show_usage()\n"
   ]
  },
  {
   "cell_type": "markdown",
   "metadata": {},
   "source": [
    "## FAISS-Mistral"
   ]
  },
  {
   "cell_type": "markdown",
   "metadata": {},
   "source": [
    "### Mistral"
   ]
  },
  {
   "cell_type": "code",
   "execution_count": 4,
   "metadata": {},
   "outputs": [
    {
     "name": "stderr",
     "output_type": "stream",
     "text": [
      "Loading checkpoint shards: 100%|██████████| 3/3 [00:06<00:00,  2.18s/it]\n"
     ]
    },
    {
     "name": "stdout",
     "output_type": "stream",
     "text": [
      "Current CPU usage: 0.2%\n",
      "Current RAM usage: 2.67 GB/15.50 GB\n",
      "b'NVIDIA GeForce RTX 3070 Ti', Memory : (2.63% free): 8.00GB (total), 0.21GB (free), 7.79GB (used)\n"
     ]
    }
   ],
   "source": [
    "model_name=\"mistralai/Mistral-7B-Instruct-v0.2\"\n",
    "\n",
    "tokenizer = AutoTokenizer.from_pretrained(model_name, trust_remote_code=True)\n",
    "tokenizer.pad_token = tokenizer.eos_token\n",
    "tokenizer.padding_side = \"right\"\n",
    "\n",
    "bnb_config = BitsAndBytesConfig(\n",
    "    load_in_4bit=True,\n",
    "    bnb_4bit_quant_type=\"nf4\",\n",
    "    bnb_4bit_compute_dtype=torch.float16,\n",
    "    bnb_4bit_use_double_quant=False,\n",
    ")\n",
    "\n",
    "model = AutoModelForCausalLM.from_pretrained(\n",
    "    model_name,\n",
    "    quantization_config=bnb_config,\n",
    "    low_cpu_mem_usage=True\n",
    ")\n",
    "\n",
    "show_usage()\n",
    "\n",
    "text_generation_pipeline = pipeline(\n",
    "    model=model,\n",
    "    tokenizer=tokenizer,\n",
    "    device_map=\"auto\",\n",
    "    task=\"text-generation\",\n",
    "    top_k=5,\n",
    "    repetition_penalty=1.1,\n",
    "    num_return_sequences=1,\n",
    "    return_full_text=True,\n",
    "    max_new_tokens=300,\n",
    "    eos_token_id=tokenizer.eos_token_id,\n",
    "    pad_token_id=tokenizer.eos_token_id,\n",
    ")\n",
    "\n",
    "prompt_template = \"\"\"<s>[INST] You are a helpful, respectful and honest assistant. Answer exactly in few words from the context\n",
    "Answer the question below from context below :\n",
    "{context}\n",
    "\n",
    "{question} [/INST] </s>\n",
    "\"\"\"\n",
    "\n",
    "mistral_llm = HuggingFacePipeline(pipeline=text_generation_pipeline)\n",
    "\n",
    "prompt = PromptTemplate(\n",
    "    input_variables=[\"context\", \"question\"],\n",
    "    template=prompt_template,\n",
    ")\n",
    "\n",
    "llm_chain = LLMChain(llm=mistral_llm, prompt=prompt)"
   ]
  },
  {
   "cell_type": "markdown",
   "metadata": {},
   "source": [
    "### FAISS"
   ]
  },
  {
   "cell_type": "code",
   "execution_count": null,
   "metadata": {},
   "outputs": [],
   "source": [
    "data_path = \"./data/KB_user_profiles.csv.gz\"\n",
    "data_path = unzip_gzip(data_path)\n",
    "\n",
    "loader = CSVLoader(data_path)\n",
    "data = loader.load()"
   ]
  },
  {
   "cell_type": "code",
   "execution_count": 4,
   "metadata": {},
   "outputs": [
    {
     "name": "stdout",
     "output_type": "stream",
     "text": [
      "page_content=\"name: Alice\\nsurname: Smith\\ngender: 0\\nmansion: Healthcare Information Technology (IT) Specialist\\ncategory: healthcare\\ncategory_id: 7\\ndescription: I am Alice Smith, a Healthcare Information Technology (IT) Specialist adaptive software developer. With a resourceful passion for market research, I bring 20 years of experience to the manufacturing industry. Known for my adaptive leadership abilities, I excel in designing visually appealing graphics and consistently deliver measurable results. In my role as a cybersecurity analyst, I've demonstrated a dynamic ability to {KEY_ACTION_OR_SKILL}, earning accolades for my resourceful secured major partnerships. Colleagues often commend my innovative approach to coding, noting my innovative attention to detail and commitment to innovation. I thrive in dynamic environments, adapting seamlessly to personalized user experiences and embracing biotechnology. My dynamic communication skills facilitate collaboration across teams, fostering a meticulous work culture. Beyond my professional endeavors, I am dynamic in {HOBBY_OR_INTEREST}, showcasing my versatile dedication to continuous growth and learning. I am eager to bring my creative expertise to DataDriven Dynamics and contribute to its empowering global communities.\\nsalary: 1968\\nskills: Cross-functional Collaboration, Complexity Management, Relationship Building, Systems Optimization, Open-mindedness\\ncity: Nairobi\\ncountry: Kenya\\nremote_hybrid_office: 1\\nrelocation: 1\\ncurrent_company: HealthTechInnovations\\npart_full_time: 0\\njunior_senior: 0\\nexperience_years: 11\\nlevel_education: 1\" metadata={'source': './data/KB_user_profiles.csv', 'row': 0}\n"
     ]
    }
   ],
   "source": [
    "print(data[0])"
   ]
  },
  {
   "cell_type": "code",
   "execution_count": 5,
   "metadata": {},
   "outputs": [],
   "source": [
    "# db = FAISS.from_documents(data, HuggingFaceEmbeddings(model_name='sentence-transformers/all-mpnet-base-v2'))\n",
    "# db.save_local(\"faiss_index\")\n",
    "db = FAISS.load_local(\"./faiss_index\", HuggingFaceEmbeddings(model_name='sentence-transformers/all-mpnet-base-v2'))"
   ]
  },
  {
   "cell_type": "code",
   "execution_count": 6,
   "metadata": {},
   "outputs": [],
   "source": [
    "retriever = db.as_retriever(search_kwargs={\"k\":3})\n",
    "rag_chain = (\n",
    " {\"context\": retriever, \"question\": RunnablePassthrough()}\n",
    "    | llm_chain\n",
    ")"
   ]
  },
  {
   "cell_type": "code",
   "execution_count": 7,
   "metadata": {},
   "outputs": [
    {
     "name": "stdout",
     "output_type": "stream",
     "text": [
      "105.34 seconds for generation\n",
      "Current CPU usage: 0.1%\n",
      "Current RAM usage: 4.86 GB/15.50 GB\n",
      "b'NVIDIA GeForce RTX 3070 Ti', Memory : (2.11% free): 8.00GB (total), 0.17GB (free), 7.83GB (used)\n"
     ]
    }
   ],
   "source": [
    "t0 = time()\n",
    "output = rag_chain.invoke(\"Find me the best candidate for a software engineering position\")\n",
    "print(f\"{time()-t0:.2f} seconds for generation\")\n",
    "\n",
    "show_usage()"
   ]
  },
  {
   "cell_type": "code",
   "execution_count": 9,
   "metadata": {},
   "outputs": [
    {
     "name": "stdout",
     "output_type": "stream",
     "text": [
      "Based on the provided context, all three candidates (Calypso Matthews, Isabel Long, and Elowen Edwards) have experience in leading software development projects. However, the best candidate for a software engineering position would depend on specific requirements and qualifications needed for the role. Here's a brief comparison of their skills mentioned in the context:\n",
      "\n",
      "* Calypso Matthews: Facilitation Skills, Critical Analysis, Learning Agility, Networking, Analytical Thinking\n",
      "* Isabel Long: Change Adaptability, Effective Communication, Intrapreneurship, Curiosity, Experimentation\n",
      "* Elowen Edwards: Data-Driven Decision-Making, Conflict Resolution, Influence and Persuasion, Interdisciplinary Collaboration, Cognitive Diversity\n",
      "\n",
      "Without knowing which skills are most important for the software engineering position, it is difficult to determine which candidate is the best fit based on the given context alone. It may be necessary to consider other factors such as education level, experience years, and industry expertise to make an informed decision.\n"
     ]
    }
   ],
   "source": [
    "print(output[\"text\"])"
   ]
  }
 ],
 "metadata": {
  "kernelspec": {
   "display_name": "rasa",
   "language": "python",
   "name": "python3"
  },
  "language_info": {
   "codemirror_mode": {
    "name": "ipython",
    "version": 3
   },
   "file_extension": ".py",
   "mimetype": "text/x-python",
   "name": "python",
   "nbconvert_exporter": "python",
   "pygments_lexer": "ipython3",
   "version": "3.10.13"
  }
 },
 "nbformat": 4,
 "nbformat_minor": 2
}
