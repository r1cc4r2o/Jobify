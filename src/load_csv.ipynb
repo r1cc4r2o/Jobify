{
 "cells": [
  {
   "cell_type": "code",
   "execution_count": 1,
   "metadata": {},
   "outputs": [],
   "source": [
    "import pandas as pd\n",
    "\n",
    "\n",
    "KB_CANDIDATES_PROFILES_PATH = \"data\\KB_user_profiles.csv.gz\"\n",
    "KB_CANDIDATES_PROFILES = pd.read_csv(KB_CANDIDATES_PROFILES_PATH, compression='gzip')"
   ]
  },
  {
   "cell_type": "code",
   "execution_count": 2,
   "metadata": {},
   "outputs": [
    {
     "data": {
      "text/plain": [
       "Index(['name', 'surname', 'gender', 'mansion', 'category', 'category_id',\n",
       "       'description', 'salary', 'skills', 'city', 'country',\n",
       "       'remote_hybrid_office', 'relocation', 'current_company',\n",
       "       'part_full_time', 'junior_senior', 'experience_years',\n",
       "       'level_education'],\n",
       "      dtype='object')"
      ]
     },
     "execution_count": 2,
     "metadata": {},
     "output_type": "execute_result"
    }
   ],
   "source": [
    "KB_CANDIDATES_PROFILES.keys()"
   ]
  },
  {
   "cell_type": "code",
   "execution_count": 3,
   "metadata": {},
   "outputs": [
    {
     "data": {
      "text/plain": [
       "name                                                                Alice\n",
       "surname                                                             Smith\n",
       "gender                                                                  0\n",
       "mansion                 Healthcare Information Technology (IT) Specialist\n",
       "category                                                       healthcare\n",
       "category_id                                                             7\n",
       "description             I am Alice Smith, a Healthcare Information Tec...\n",
       "salary                                                               1968\n",
       "skills                  Cross-functional Collaboration, Complexity Man...\n",
       "city                                                              Nairobi\n",
       "country                                                             Kenya\n",
       "remote_hybrid_office                                                    1\n",
       "relocation                                                              1\n",
       "current_company                                     HealthTechInnovations\n",
       "part_full_time                                                          0\n",
       "junior_senior                                                           0\n",
       "experience_years                                                       11\n",
       "level_education                                                         1\n",
       "Name: 0, dtype: object"
      ]
     },
     "execution_count": 3,
     "metadata": {},
     "output_type": "execute_result"
    }
   ],
   "source": [
    "KB_CANDIDATES_PROFILES.iloc[0]"
   ]
  }
 ],
 "metadata": {
  "kernelspec": {
   "display_name": "rasa",
   "language": "python",
   "name": "python3"
  },
  "language_info": {
   "codemirror_mode": {
    "name": "ipython",
    "version": 3
   },
   "file_extension": ".py",
   "mimetype": "text/x-python",
   "name": "python",
   "nbconvert_exporter": "python",
   "pygments_lexer": "ipython3",
   "version": "3.9.18"
  }
 },
 "nbformat": 4,
 "nbformat_minor": 2
}
