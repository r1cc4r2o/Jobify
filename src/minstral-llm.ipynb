{
 "cells": [
  {
   "cell_type": "markdown",
   "metadata": {},
   "source": [
    "### How to install bitsandbytes"
   ]
  },
  {
   "cell_type": "code",
   "execution_count": null,
   "metadata": {},
   "outputs": [],
   "source": [
    "# for windows\n",
    "# Bitsandbytes was not supported windows before, but my method can support windows.（yuhuang）\n",
    "# 1 open folder J:\\StableDiffusion\\sdwebui，Click the address bar of the folder and enter CMD\n",
    "# or WIN+R, CMD 。enter，cd /d J:\\StableDiffusion\\sdwebui\n",
    "# 2 J:\\StableDiffusion\\sdwebui\\py310\\python.exe -m pip uninstall bitsandbytes\n",
    "\n",
    "# 3 J:\\StableDiffusion\\sdwebui\\py310\\python.exe -m pip uninstall bitsandbytes-windows\n",
    "\n",
    "# 4 J:\\StableDiffusion\\sdwebui\\py310\\python.exe -m pip install https://github.com/jllllll/bitsandbytes-windows-webui/releases/download/wheels/bitsandbytes-0.41.1-py3-none-win_amd64.whl\n",
    "\n",
    "# Replace your SD venv directory file（python.exe Folder） here（J:\\StableDiffusion\\sdwebui\\py310）"
   ]
  },
  {
   "cell_type": "code",
   "execution_count": null,
   "metadata": {},
   "outputs": [],
   "source": [
    "# pip install -q -U bitsandbytes # only for linux\n",
    "pip install -q -U git+https://github.com/huggingface/transformers.git\n",
    "pip install -q -U git+https://github.com/huggingface/peft.git\n",
    "pip install -q -U git+https://github.com/huggingface/accelerate.git\n",
    "pip install -q -U einops\n",
    "pip install -q -U safetensors\n",
    "pip install -q -U torch\n",
    "pip install -q -U xformers\n",
    "pip install -q -U langchain\n",
    "pip install -q -U ctransformers[cuda]\n",
    "pip install chromadb\n",
    "pip install sentence-transformers"
   ]
  },
  {
   "cell_type": "code",
   "execution_count": null,
   "metadata": {},
   "outputs": [],
   "source": [
    "import torch\n",
    "from transformers import BitsAndBytesConfig\n",
    "from transformers import AutoModelForCausalLM, AutoTokenizer, pipeline\n",
    "\n",
    "from langchain import HuggingFacePipeline\n",
    "from langchain import PromptTemplate, LLMChain\n"
   ]
  },
  {
   "cell_type": "code",
   "execution_count": null,
   "metadata": {},
   "outputs": [],
   "source": [
    "quantization_config = BitsAndBytesConfig(\n",
    "    load_in_4bit=True,\n",
    "    bnb_4bit_compute_dtype=torch.float16,\n",
    "    bnb_4bit_quant_type=\"nf4\",\n",
    "    bnb_4bit_use_double_quant=True,\n",
    ")\n",
    "\n",
    "model_id = \"mistralai/Mistral-7B-Instruct-v0.1\"\n",
    "\n",
    "model_4bit = AutoModelForCausalLM.from_pretrained(model_id, device_map=\"cuda\",quantization_config=quantization_config, )\n",
    "tokenizer = AutoTokenizer.from_pretrained(model_id)"
   ]
  },
  {
   "cell_type": "code",
   "execution_count": null,
   "metadata": {},
   "outputs": [],
   "source": [
    "pipeline = pipeline(\n",
    "        \"text-generation\",\n",
    "        model=model_4bit,\n",
    "        tokenizer=tokenizer,\n",
    "        use_cache=True,\n",
    "        device_map=\"auto\",\n",
    "        max_length=600,\n",
    "        do_sample=True,\n",
    "        top_k=5,\n",
    "        num_return_sequences=1,\n",
    "        eos_token_id=tokenizer.eos_token_id,\n",
    "        pad_token_id=tokenizer.eos_token_id,\n",
    ")"
   ]
  },
  {
   "cell_type": "code",
   "execution_count": null,
   "metadata": {},
   "outputs": [],
   "source": [
    "llm = HuggingFacePipeline(pipeline=pipeline)"
   ]
  },
  {
   "cell_type": "code",
   "execution_count": null,
   "metadata": {},
   "outputs": [],
   "source": [
    "%%time\n",
    "template = \"\"\"<s>[INST] You are a helpful, respectful and honest assistant. Answer exactly in few words from the context\n",
    "Answer the question below from context below :\n",
    "{context}\n",
    "{question_manager}\n",
    "{question} [/INST] </s>\n",
    "\"\"\"\n",
    "\n",
    "question_p = \"\"\"The manager is asking this: Could you compare Olivia Baker and John Doe? Which one could be the best candidate for a software engeneering position?\"\"\"\n",
    "question = \"\"\"The manager is asking what is in the context above, could you answare to his question given the context?\"\"\"\n",
    "\n",
    "\n",
    "context_p = \"\"\"\n",
    "CANDIDATE 1 PROFILE\n",
    "Name: John Doe\n",
    "Username: johndoe123\n",
    "Email: johndoe123@example.com\n",
    "Password: *********\n",
    "Date of Birth: January 1, 1990\n",
    "Gender: Male\n",
    "Address: 123 Main Street, Cityville, State\n",
    "Phone Number: (555) 555-5555\n",
    "\n",
    "Profile Picture: [Link to a generic profile picture]\n",
    "\n",
    "Biography:\n",
    "Hello! I'm John Doe, a software developer passionate about technology and innovation. I enjoy coding, hiking, and exploring new places. Currently living in Cityville, I love meeting new people and making connections in the tech community. Feel free to reach out if you share similar interests!\n",
    "\n",
    "Education:\n",
    "\n",
    "Bachelor of Science in Computer Science, University of Techland (2012-2016)\n",
    "Work Experience:\n",
    "\n",
    "Software Developer, Tech Innovations Inc. (2016-present)\n",
    "Interests:\n",
    "\n",
    "Coding\n",
    "Hiking\n",
    "Technology\n",
    "Travel\n",
    "\n",
    "CANDIDATE 2 PROFILE\n",
    "Name: Olivia Baker\n",
    "Username: oliviabakes\n",
    "Email: oliviabakes@example.com\n",
    "Password: *********\n",
    "Date of Birth: March 15, 1985\n",
    "Gender: Female\n",
    "Address: 456 Baker Street, Sweetsville, State\n",
    "Phone Number: (555) 555-1234\n",
    "\n",
    "Profile Picture: [Link to a generic profile picture]\n",
    "\n",
    "Biography:\n",
    "Hi there! I'm Olivia, a passionate baker with a love for creating delightful treats. From mouth-watering cupcakes to artisan bread, baking is not just my profession; it's my life! Join me on this sweet journey, and let's share the joy of homemade goodies together. 🍰🍪\n",
    "\n",
    "Education:\n",
    "\n",
    "Culinary Arts Degree, Baking Specialization, Sweetsville Culinary Institute (2004-2006)\n",
    "Work Experience:\n",
    "\n",
    "Head Baker, Sweet Delights Bakery (2006-present)\n",
    "Baking Specialties:\n",
    "\n",
    "Cupcakes\n",
    "Artisan Bread\n",
    "Wedding Cakes\n",
    "Pastry Creations\n",
    "\"\"\"\n",
    "\n",
    "\n",
    "prompt = PromptTemplate(template=template, input_variables=[\"question\",\"context\"])\n",
    "llm_chain = LLMChain(prompt=prompt, llm=llm)\n",
    "response = llm_chain.run({\"question_manager\":question_p,\"context\":context_p, \"question\": question})\n",
    "response\n"
   ]
  }
 ],
 "metadata": {
  "kernelspec": {
   "display_name": "rasa",
   "language": "python",
   "name": "python3"
  },
  "language_info": {
   "codemirror_mode": {
    "name": "ipython",
    "version": 3
   },
   "file_extension": ".py",
   "mimetype": "text/x-python",
   "name": "python",
   "nbconvert_exporter": "python",
   "pygments_lexer": "ipython3",
   "version": "3.8.18"
  }
 },
 "nbformat": 4,
 "nbformat_minor": 2
}
