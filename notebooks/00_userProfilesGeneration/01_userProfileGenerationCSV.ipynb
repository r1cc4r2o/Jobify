{
 "cells": [
  {
   "cell_type": "markdown",
   "metadata": {},
   "source": [
    "# Genearate user professional profile\n",
    "\n",
    "Here we will generate the user professional profile based on the user's... The functions in the utils.py file will be used to generate the user professional profile. All the profiles aren't autehntic and are generated randomly. The description for each profile are produced using ChatGPT, leveraging what the user has written in their profile.\n"
   ]
  },
  {
   "cell_type": "code",
   "execution_count": 1,
   "metadata": {},
   "outputs": [
    {
     "name": "stdout",
     "output_type": "stream",
     "text": [
      "/Users/riccardotedoldi/Desktop/projectHMD\n"
     ]
    }
   ],
   "source": [
    "%cd ../../"
   ]
  },
  {
   "cell_type": "code",
   "execution_count": 4,
   "metadata": {},
   "outputs": [],
   "source": [
    "import utils.config as config\n",
    "import utils.utils as utils\n",
    "\n",
    "import pandas as pd\n",
    "import random\n",
    "\n",
    "from transformers import AutoTokenizer, AutoModel\n",
    "import torch\n",
    "\n",
    "from tqdm import tqdm"
   ]
  },
  {
   "cell_type": "code",
   "execution_count": 5,
   "metadata": {},
   "outputs": [
    {
     "data": {
      "text/plain": [
       "'mps'"
      ]
     },
     "execution_count": 5,
     "metadata": {},
     "output_type": "execute_result"
    }
   ],
   "source": [
    "device = 'mps' if torch.backends.mps.is_available() else 'cpu'\n",
    "device"
   ]
  },
  {
   "cell_type": "code",
   "execution_count": 6,
   "metadata": {},
   "outputs": [
    {
     "name": "stderr",
     "output_type": "stream",
     "text": [
      "huggingface/tokenizers: The current process just got forked, after parallelism has already been used. Disabling parallelism to avoid deadlocks...\n",
      "To disable this warning, you can either:\n",
      "\t- Avoid using `tokenizers` before the fork if possible\n",
      "\t- Explicitly set the environment variable TOKENIZERS_PARALLELISM=(true | false)\n",
      "425it [00:34, 12.39it/s]\n"
     ]
    },
    {
     "name": "stdout",
     "output_type": "stream",
     "text": [
      "97325\n"
     ]
    },
    {
     "name": "stderr",
     "output_type": "stream",
     "text": [
      "97325it [00:10, 9536.54it/s]\n"
     ]
    }
   ],
   "source": [
    "df_mansion_category = utils.get_category_df_mansion_txt_id_category()\n",
    "\n",
    "name_surname_gender_mansion = utils.get_combinations_name_surname_gender_mansion(df_mansion_category)\n",
    "print(len(name_surname_gender_mansion))#, name_surname_gender_mansion[:10])\n",
    "\n",
    "name_surname_gender_mansion = utils.fill_all_slots_salary(name_surname_gender_mansion)\n",
    "\n",
    "# save df \n",
    "name_surname_gender_mansion.to_csv('KB_user_profiles.csv', index=False)\n"
   ]
  },
  {
   "cell_type": "code",
   "execution_count": 7,
   "metadata": {},
   "outputs": [],
   "source": [
    "name_surname_gender_mansion.to_csv('data/KB_user_profiles.csv.gz', index=False, compression='gzip')"
   ]
  },
  {
   "cell_type": "code",
   "execution_count": 8,
   "metadata": {},
   "outputs": [
    {
     "data": {
      "text/html": [
       "<div>\n",
       "<style scoped>\n",
       "    .dataframe tbody tr th:only-of-type {\n",
       "        vertical-align: middle;\n",
       "    }\n",
       "\n",
       "    .dataframe tbody tr th {\n",
       "        vertical-align: top;\n",
       "    }\n",
       "\n",
       "    .dataframe thead th {\n",
       "        text-align: right;\n",
       "    }\n",
       "</style>\n",
       "<table border=\"1\" class=\"dataframe\">\n",
       "  <thead>\n",
       "    <tr style=\"text-align: right;\">\n",
       "      <th></th>\n",
       "      <th>name</th>\n",
       "      <th>surname</th>\n",
       "      <th>gender</th>\n",
       "      <th>mansion</th>\n",
       "      <th>category</th>\n",
       "      <th>category_id</th>\n",
       "      <th>description</th>\n",
       "      <th>salary</th>\n",
       "    </tr>\n",
       "  </thead>\n",
       "  <tbody>\n",
       "    <tr>\n",
       "      <th>0</th>\n",
       "      <td>Alice</td>\n",
       "      <td>Smith</td>\n",
       "      <td>0</td>\n",
       "      <td>Healthcare Information Technology (IT) Specialist</td>\n",
       "      <td>healthcare</td>\n",
       "      <td>25</td>\n",
       "      <td>I am Alice Smith, a Healthcare Information Tec...</td>\n",
       "      <td>1769</td>\n",
       "    </tr>\n",
       "    <tr>\n",
       "      <th>1</th>\n",
       "      <td>Alice</td>\n",
       "      <td>Johnson</td>\n",
       "      <td>0</td>\n",
       "      <td>Logistics Manager</td>\n",
       "      <td>infrastructure</td>\n",
       "      <td>5</td>\n",
       "      <td>Presenting myself as Alice Johnson, I hold the...</td>\n",
       "      <td>3816</td>\n",
       "    </tr>\n",
       "    <tr>\n",
       "      <th>2</th>\n",
       "      <td>Alice</td>\n",
       "      <td>Williams</td>\n",
       "      <td>0</td>\n",
       "      <td>Content Marketing Manager</td>\n",
       "      <td>media</td>\n",
       "      <td>8</td>\n",
       "      <td>I go by Alice Williams, occupying the Content ...</td>\n",
       "      <td>1172</td>\n",
       "    </tr>\n",
       "    <tr>\n",
       "      <th>3</th>\n",
       "      <td>Alice</td>\n",
       "      <td>Jones</td>\n",
       "      <td>0</td>\n",
       "      <td>Drummer</td>\n",
       "      <td>music</td>\n",
       "      <td>0</td>\n",
       "      <td>A Drummer known by the name Alice Jones, I am ...</td>\n",
       "      <td>3454</td>\n",
       "    </tr>\n",
       "    <tr>\n",
       "      <th>4</th>\n",
       "      <td>Alice</td>\n",
       "      <td>Brown</td>\n",
       "      <td>0</td>\n",
       "      <td>Novelist</td>\n",
       "      <td>arts</td>\n",
       "      <td>21</td>\n",
       "      <td>I am Alice Brown, a Novelist versatile project...</td>\n",
       "      <td>3355</td>\n",
       "    </tr>\n",
       "    <tr>\n",
       "      <th>5</th>\n",
       "      <td>Alice</td>\n",
       "      <td>Davis</td>\n",
       "      <td>0</td>\n",
       "      <td>Actress</td>\n",
       "      <td>arts</td>\n",
       "      <td>21</td>\n",
       "      <td>Alice Davis, residing in the Actress of UX/UI ...</td>\n",
       "      <td>2229</td>\n",
       "    </tr>\n",
       "    <tr>\n",
       "      <th>6</th>\n",
       "      <td>Alice</td>\n",
       "      <td>Miller</td>\n",
       "      <td>0</td>\n",
       "      <td>Nurse Manager</td>\n",
       "      <td>healthcare</td>\n",
       "      <td>25</td>\n",
       "      <td>I am Alice Miller, a Nurse Manager resourceful...</td>\n",
       "      <td>5271</td>\n",
       "    </tr>\n",
       "    <tr>\n",
       "      <th>7</th>\n",
       "      <td>Alice</td>\n",
       "      <td>Wilson</td>\n",
       "      <td>0</td>\n",
       "      <td>Medical Records Clerk</td>\n",
       "      <td>healthcare</td>\n",
       "      <td>25</td>\n",
       "      <td>I am Alice Wilson, a Medical Records Clerk dyn...</td>\n",
       "      <td>5252</td>\n",
       "    </tr>\n",
       "    <tr>\n",
       "      <th>8</th>\n",
       "      <td>Alice</td>\n",
       "      <td>Moore</td>\n",
       "      <td>0</td>\n",
       "      <td>Chef de Cuisine</td>\n",
       "      <td>hospitality</td>\n",
       "      <td>12</td>\n",
       "      <td>Alice Moore, residing in the Chef de Cuisine o...</td>\n",
       "      <td>3921</td>\n",
       "    </tr>\n",
       "    <tr>\n",
       "      <th>9</th>\n",
       "      <td>Alice</td>\n",
       "      <td>Taylor</td>\n",
       "      <td>0</td>\n",
       "      <td>IT Help Desk Technician</td>\n",
       "      <td>technology</td>\n",
       "      <td>10</td>\n",
       "      <td>I am Alice Taylor, a IT Help Desk Technician m...</td>\n",
       "      <td>6343</td>\n",
       "    </tr>\n",
       "  </tbody>\n",
       "</table>\n",
       "</div>"
      ],
      "text/plain": [
       "    name   surname  gender                                            mansion  \\\n",
       "0  Alice     Smith       0  Healthcare Information Technology (IT) Specialist   \n",
       "1  Alice   Johnson       0                                  Logistics Manager   \n",
       "2  Alice  Williams       0                          Content Marketing Manager   \n",
       "3  Alice     Jones       0                                            Drummer   \n",
       "4  Alice     Brown       0                                           Novelist   \n",
       "5  Alice     Davis       0                                            Actress   \n",
       "6  Alice    Miller       0                                      Nurse Manager   \n",
       "7  Alice    Wilson       0                              Medical Records Clerk   \n",
       "8  Alice     Moore       0                                    Chef de Cuisine   \n",
       "9  Alice    Taylor       0                            IT Help Desk Technician   \n",
       "\n",
       "         category  category_id  \\\n",
       "0      healthcare           25   \n",
       "1  infrastructure            5   \n",
       "2           media            8   \n",
       "3           music            0   \n",
       "4            arts           21   \n",
       "5            arts           21   \n",
       "6      healthcare           25   \n",
       "7      healthcare           25   \n",
       "8     hospitality           12   \n",
       "9      technology           10   \n",
       "\n",
       "                                         description  salary  \n",
       "0  I am Alice Smith, a Healthcare Information Tec...    1769  \n",
       "1  Presenting myself as Alice Johnson, I hold the...    3816  \n",
       "2  I go by Alice Williams, occupying the Content ...    1172  \n",
       "3  A Drummer known by the name Alice Jones, I am ...    3454  \n",
       "4  I am Alice Brown, a Novelist versatile project...    3355  \n",
       "5  Alice Davis, residing in the Actress of UX/UI ...    2229  \n",
       "6  I am Alice Miller, a Nurse Manager resourceful...    5271  \n",
       "7  I am Alice Wilson, a Medical Records Clerk dyn...    5252  \n",
       "8  Alice Moore, residing in the Chef de Cuisine o...    3921  \n",
       "9  I am Alice Taylor, a IT Help Desk Technician m...    6343  "
      ]
     },
     "execution_count": 8,
     "metadata": {},
     "output_type": "execute_result"
    }
   ],
   "source": [
    "name_surname_gender_mansion.head(10)"
   ]
  }
 ],
 "metadata": {
  "kernelspec": {
   "display_name": "Python 3",
   "language": "python",
   "name": "python3"
  },
  "language_info": {
   "codemirror_mode": {
    "name": "ipython",
    "version": 3
   },
   "file_extension": ".py",
   "mimetype": "text/x-python",
   "name": "python",
   "nbconvert_exporter": "python",
   "pygments_lexer": "ipython3",
   "version": "3.10.9"
  }
 },
 "nbformat": 4,
 "nbformat_minor": 2
}
