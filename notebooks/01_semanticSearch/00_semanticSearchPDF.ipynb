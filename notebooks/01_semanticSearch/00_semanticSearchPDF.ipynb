{
 "cells": [
  {
   "cell_type": "markdown",
   "metadata": {},
   "source": [
    "# Semantic search with sentence-transformers over PDFs"
   ]
  },
  {
   "cell_type": "markdown",
   "metadata": {},
   "source": [
    "Here's a step-by-step guide to extract information from PDF files and perform semantic search on the extracted text:\n",
    "\n",
    "1. Load PDF File\n",
    "\n",
    "2. Extract Text\n",
    "\n",
    "3. Preprocess Text: removing irrelevant characters, converting text to lowercase, lemmatization, etc.\n",
    "\n",
    "4. Organizing it into a more structured format\n",
    "\n",
    "5. Vectorize Text: Essential for semantic similarity calculations\n",
    "\n",
    "6. Build Search Index\n",
    "\n",
    "7. Perform Semantic Search\n",
    "\n",
    "8. Search Index\n",
    "\n",
    "9. Rank Results\n",
    "\n",
    "10. Return Results"
   ]
  },
  {
   "cell_type": "code",
   "execution_count": 71,
   "metadata": {},
   "outputs": [
    {
     "name": "stderr",
     "output_type": "stream",
     "text": [
      "huggingface/tokenizers: The current process just got forked, after parallelism has already been used. Disabling parallelism to avoid deadlocks...\n",
      "To disable this warning, you can either:\n",
      "\t- Avoid using `tokenizers` before the fork if possible\n",
      "\t- Explicitly set the environment variable TOKENIZERS_PARALLELISM=(true | false)\n"
     ]
    },
    {
     "name": "stdout",
     "output_type": "stream",
     "text": [
      "Requirement already satisfied: sentence_transformers in /Users/riccardotedoldi/mambaforge/envs/ml/lib/python3.10/site-packages (2.2.2)\n",
      "Requirement already satisfied: scikit-learn in /Users/riccardotedoldi/mambaforge/envs/ml/lib/python3.10/site-packages (from sentence_transformers) (1.2.1)\n",
      "Requirement already satisfied: huggingface-hub>=0.4.0 in /Users/riccardotedoldi/mambaforge/envs/ml/lib/python3.10/site-packages (from sentence_transformers) (0.19.4)\n",
      "Requirement already satisfied: torchvision in /Users/riccardotedoldi/mambaforge/envs/ml/lib/python3.10/site-packages (from sentence_transformers) (0.14.1)\n",
      "Requirement already satisfied: numpy in /Users/riccardotedoldi/mambaforge/envs/ml/lib/python3.10/site-packages (from sentence_transformers) (1.23.5)\n",
      "Requirement already satisfied: tqdm in /Users/riccardotedoldi/mambaforge/envs/ml/lib/python3.10/site-packages (from sentence_transformers) (4.65.0)\n",
      "Requirement already satisfied: sentencepiece in /Users/riccardotedoldi/mambaforge/envs/ml/lib/python3.10/site-packages (from sentence_transformers) (0.1.99)\n",
      "Requirement already satisfied: torch>=1.6.0 in /Users/riccardotedoldi/mambaforge/envs/ml/lib/python3.10/site-packages (from sentence_transformers) (1.13.1)\n",
      "Requirement already satisfied: transformers<5.0.0,>=4.6.0 in /Users/riccardotedoldi/mambaforge/envs/ml/lib/python3.10/site-packages (from sentence_transformers) (4.36.0.dev0)\n",
      "Requirement already satisfied: scipy in /Users/riccardotedoldi/mambaforge/envs/ml/lib/python3.10/site-packages (from sentence_transformers) (1.8.1)\n",
      "Requirement already satisfied: nltk in /Users/riccardotedoldi/mambaforge/envs/ml/lib/python3.10/site-packages (from sentence_transformers) (3.8.1)\n",
      "Requirement already satisfied: typing-extensions>=3.7.4.3 in /Users/riccardotedoldi/mambaforge/envs/ml/lib/python3.10/site-packages (from huggingface-hub>=0.4.0->sentence_transformers) (4.9.0)\n",
      "Requirement already satisfied: pyyaml>=5.1 in /Users/riccardotedoldi/mambaforge/envs/ml/lib/python3.10/site-packages (from huggingface-hub>=0.4.0->sentence_transformers) (6.0)\n",
      "Requirement already satisfied: fsspec>=2023.5.0 in /Users/riccardotedoldi/mambaforge/envs/ml/lib/python3.10/site-packages (from huggingface-hub>=0.4.0->sentence_transformers) (2023.12.0)\n",
      "Requirement already satisfied: filelock in /Users/riccardotedoldi/mambaforge/envs/ml/lib/python3.10/site-packages (from huggingface-hub>=0.4.0->sentence_transformers) (3.9.0)\n",
      "Requirement already satisfied: packaging>=20.9 in /Users/riccardotedoldi/mambaforge/envs/ml/lib/python3.10/site-packages (from huggingface-hub>=0.4.0->sentence_transformers) (23.0)\n",
      "Requirement already satisfied: requests in /Users/riccardotedoldi/mambaforge/envs/ml/lib/python3.10/site-packages (from huggingface-hub>=0.4.0->sentence_transformers) (2.28.1)\n",
      "Requirement already satisfied: safetensors>=0.3.1 in /Users/riccardotedoldi/mambaforge/envs/ml/lib/python3.10/site-packages (from transformers<5.0.0,>=4.6.0->sentence_transformers) (0.3.3)\n",
      "Requirement already satisfied: tokenizers<0.19,>=0.14 in /Users/riccardotedoldi/mambaforge/envs/ml/lib/python3.10/site-packages (from transformers<5.0.0,>=4.6.0->sentence_transformers) (0.15.0)\n",
      "Requirement already satisfied: regex!=2019.12.17 in /Users/riccardotedoldi/mambaforge/envs/ml/lib/python3.10/site-packages (from transformers<5.0.0,>=4.6.0->sentence_transformers) (2023.5.5)\n",
      "Requirement already satisfied: click in /Users/riccardotedoldi/mambaforge/envs/ml/lib/python3.10/site-packages (from nltk->sentence_transformers) (8.1.3)\n",
      "Requirement already satisfied: joblib in /Users/riccardotedoldi/mambaforge/envs/ml/lib/python3.10/site-packages (from nltk->sentence_transformers) (1.1.1)\n",
      "Requirement already satisfied: threadpoolctl>=2.0.0 in /Users/riccardotedoldi/mambaforge/envs/ml/lib/python3.10/site-packages (from scikit-learn->sentence_transformers) (2.2.0)\n",
      "Requirement already satisfied: pillow!=8.3.*,>=5.3.0 in /Users/riccardotedoldi/mambaforge/envs/ml/lib/python3.10/site-packages (from torchvision->sentence_transformers) (9.3.0)\n",
      "Requirement already satisfied: charset-normalizer<3,>=2 in /Users/riccardotedoldi/mambaforge/envs/ml/lib/python3.10/site-packages (from requests->huggingface-hub>=0.4.0->sentence_transformers) (2.0.4)\n",
      "Requirement already satisfied: certifi>=2017.4.17 in /Users/riccardotedoldi/mambaforge/envs/ml/lib/python3.10/site-packages (from requests->huggingface-hub>=0.4.0->sentence_transformers) (2023.5.7)\n",
      "Requirement already satisfied: urllib3<1.27,>=1.21.1 in /Users/riccardotedoldi/mambaforge/envs/ml/lib/python3.10/site-packages (from requests->huggingface-hub>=0.4.0->sentence_transformers) (1.26.14)\n",
      "Requirement already satisfied: idna<4,>=2.5 in /Users/riccardotedoldi/mambaforge/envs/ml/lib/python3.10/site-packages (from requests->huggingface-hub>=0.4.0->sentence_transformers) (3.4)\n"
     ]
    }
   ],
   "source": [
    "!pip install sentence_transformers"
   ]
  },
  {
   "cell_type": "code",
   "execution_count": null,
   "metadata": {},
   "outputs": [],
   "source": [
    "import torch.nn.functional as F\n",
    "from torch import Tensor\n",
    "from transformers import AutoTokenizer, AutoModel\n",
    "from sentence_transformers.util import cos_sim"
   ]
  },
  {
   "cell_type": "code",
   "execution_count": 72,
   "metadata": {},
   "outputs": [],
   "source": [
    "def average_pool(last_hidden_states: Tensor,\n",
    "                 attention_mask: Tensor) -> Tensor:\n",
    "    last_hidden = last_hidden_states.masked_fill(~attention_mask[..., None].bool(), 0.0)\n",
    "    return last_hidden.sum(dim=1) / attention_mask.sum(dim=1)[..., None]\n",
    "\n",
    "def divide_text_cv_in_parts(text_cv, n_parts=5):\n",
    "    sentences = sent_tokenize(text_cv.text)\n",
    "    n_sentences = len(sentences)\n",
    "    step = int(n_sentences/n_parts)\n",
    "    parts = []\n",
    "    for i in range(n_parts):\n",
    "        if i == n_parts-1:\n",
    "            parts.append(sentences[i*step:])\n",
    "        else:\n",
    "            parts.append(sentences[i*step:(i+1)*step])\n",
    "    return parts\n",
    "\n",
    "def get_sentences(PATH):\n",
    "    text_cv = nlp([page.extract_text() for page in PyPDF2.PdfReader(open(PATH, 'rb')).pages][0])\n",
    "    sentences = sent_tokenize(text_cv.text)  # split into sentences\n",
    "    return sentences\n",
    "    PATH = PATHs[0]\n",
    "\n",
    "def get_cls_embeddings(PATH1, PATH2):\n",
    "    # Load the PDF file\n",
    "    sentences_1 = get_sentences(PATH1)\n",
    "    sentences_2 = get_sentences(PATH2)\n",
    "    \n",
    "    # Tokenize the input texts\n",
    "    batch_dict_1 = tokenizer(sentences_1, max_length=512, padding=True, truncation=True, return_tensors='pt')\n",
    "    batch_dict_2 = tokenizer(sentences_2, max_length=512, padding=True, truncation=True, return_tensors='pt')\n",
    "    \n",
    "    # Compute the embeddings\n",
    "    outputs_1 = model(**batch_dict_1)\n",
    "    outputs_2 = model(**batch_dict_2)\n",
    "    \n",
    "    # Average pool the embeddings across the tokens\n",
    "    embeddings_1 = average_pool(outputs_1.last_hidden_state, batch_dict_1.attention_mask)\n",
    "    embeddings_2 = average_pool(outputs_2.last_hidden_state, batch_dict_2.attention_mask)\n",
    "\n",
    "    # (Optionally) normalize embeddings\n",
    "    embeddings_1 = F.normalize(embeddings_1, p=2, dim=1)\n",
    "    embeddings_2 = F.normalize(embeddings_2, p=2, dim=1)\n",
    "    \n",
    "    cls_1 = embeddings_1[0] # cls token\n",
    "    cls_2 = embeddings_2[0] # cls token\n",
    "    \n",
    "    return cls_1, cls_2\n",
    "\n",
    "\n",
    "def compute_cos_sim(PATH1, PATH2):\n",
    "    # Get the embeddings\n",
    "    cls_1, cls_2 = get_cls_embeddings(PATH1, PATH2)\n",
    "    # Compute cosine similarity between the two embeddings\n",
    "    sim_cos = cos_sim(cls_1, cls_2)\n",
    "    return sim_cos\n"
   ]
  },
  {
   "cell_type": "code",
   "execution_count": null,
   "metadata": {},
   "outputs": [],
   "source": [
    "tokenizer = AutoTokenizer.from_pretrained(\"thenlper/gte-small\")\n",
    "model = AutoModel.from_pretrained(\"thenlper/gte-small\")"
   ]
  },
  {
   "cell_type": "markdown",
   "metadata": {},
   "source": [
    "## 1. Load PDF File"
   ]
  },
  {
   "cell_type": "code",
   "execution_count": 1,
   "metadata": {},
   "outputs": [
    {
     "name": "stdout",
     "output_type": "stream",
     "text": [
      "Collecting PyPDF2\n",
      "  Downloading pypdf2-3.0.1-py3-none-any.whl (232 kB)\n",
      "\u001b[2K     \u001b[90m━━━━━━━━━━━━━━━━━━━━━━━━━━━━━━━━━━━━━\u001b[0m \u001b[32m232.6/232.6 kB\u001b[0m \u001b[31m527.3 kB/s\u001b[0m eta \u001b[36m0:00:00\u001b[0ma \u001b[36m0:00:01\u001b[0m\n",
      "\u001b[?25hInstalling collected packages: PyPDF2\n",
      "Successfully installed PyPDF2-3.0.1\n"
     ]
    }
   ],
   "source": [
    "!pip install PyPDF2"
   ]
  },
  {
   "cell_type": "code",
   "execution_count": 55,
   "metadata": {},
   "outputs": [],
   "source": [
    "import PyPDF2\n",
    "import glob\n",
    "\n",
    "from nltk.tokenize import sent_tokenize\n",
    "from nltk.tokenize import word_tokenize\n",
    "from gensim.utils import simple_preprocess\n",
    "\n",
    "import spacy\n"
   ]
  },
  {
   "cell_type": "code",
   "execution_count": 4,
   "metadata": {},
   "outputs": [],
   "source": [
    "PATHs = glob.glob('../PDF_CV_DATASET/data/data/*/*.pdf')"
   ]
  },
  {
   "cell_type": "code",
   "execution_count": 6,
   "metadata": {},
   "outputs": [
    {
     "name": "stdout",
     "output_type": "stream",
     "text": [
      "ADULT EDUCATION INSTRUCTOR\n",
      "Summary\n",
      "Seasoned Agriculture Teacher with more than 20 years of experience in this world of education. Excellent teaching and leadership skills. Track\n",
      "record of achieving exceptional results in not only FFA programs but also Credit Recovery Programs at my current high school and program\n",
      "improvement in numbers at not only Covina High School but also Bloomington High School. I have also been involved with bringing to life the\n",
      "Adult Education Program in the Colton Joint Unified School District.Â Â \n",
      " Compassionate teacher excited to take on new professional challenges\n",
      "and assist studentsÂ in improving learning skills, and abilities. Hardworking and responsible professional adept at crisis response and activity\n",
      "planning.\n",
      "Experience\n",
      "Company Name\n",
      " \n",
      "City\n",
      " \n",
      ", \n",
      "State\n",
      " \n",
      "Adult Education Instructor\n",
      " \n",
      "08/2016\n",
      " \n",
      "to \n",
      "Current\n",
      " \n",
      "Developed a diploma program that fit the needs of the community,\n",
      "continues to work with the community and wants to see the students succeed move on into either industry or collegeÂ \n",
      "Company Name\n",
      " \n",
      "City\n",
      " \n",
      ", \n",
      "State\n",
      " \n",
      "Agriculture/Credit Recovery Teacher\n",
      " \n",
      "08/2000\n",
      " \n",
      "to \n",
      "Current\n",
      "Planned and conducted activities for a balanced program of instruction, demonstration, and work time that provided students with\n",
      "opportunities to observe, question, and investigate.\n",
      "Goal Setting Established clear objectives for all lessons/projects and communicated with students, achieving a total understanding of grading\n",
      "rubric and overall class expectations.\n",
      "Parent Communication Regularly met with parents to discuss student issues and course weakness areas.\n",
      "Student-Centered Curriculum Planning Developed mid-semester evaluation for students to give feedback about current curriculum and\n",
      "suggest alternative course materials and subjects for remainder of year.\n",
      "Developed interesting course plans to meet academic, intellectual and social needs of students.\n",
      "Developed and implemented interesting and interactive learning mediums to increase student understanding of course materials.\n",
      "Routinely met with students' parents regarding in-class issues and learning interruptions to discuss solutions.\n",
      "Received high remarks for the creativity of classroom lesson plans and instructional techniques from students, parents and faculty.\n",
      "Created and enforced child-based hands-on curriculum to promote student interest and receptive learning.\n",
      "Implemented student discipline measures, decreasing classroom disruptions by 80%.\n",
      "Combined discipline plan with effective measures and various lesson plans to increase concentration, participation, and progress student\n",
      "accountability.\n",
      "Company Name\n",
      " \n",
      "City\n",
      " \n",
      ", \n",
      "State\n",
      " \n",
      "Agriculture Teacher\n",
      " \n",
      "08/1995\n",
      " \n",
      "to \n",
      "08/2000\n",
      "Developed interesting course plans to meet academic, intellectual and social needs of students.\n",
      "Developed and implemented interesting and interactive learning mediums to increase student understanding of course materials.\n",
      "Routinely met with students' parents regarding in-class issues and learning interruptions to discuss solutions.Implemented student discipline\n",
      "measures, decreasing classroom disruptions by 80%.\n",
      "Accomplishments\n",
      "Cal Poly Pomona \n",
      "Pomona, CA, USA Community Involvement Been a leader with High Desert Challengers 4Hfor the last 12 years.\n",
      "Have been involved with helping the kids raise animals to learning how to sew for the San Bernardino County Fair.\n",
      "Material Development\n",
      "Created \n",
      "Diploma program for Adult EducationÂ \n",
      " targeting students who have the desire to achieve receiving their diploma andÂ \n",
      " Â \n",
      "to create an engaging educational experience.\n",
      "Lesson Planning:\n",
      "Introduced new learning methods to ensure total comprehension for all students.\n",
      "â€‹\n",
      "Education\n",
      "Subject Matter Authorization in Science: Science\n",
      " \n",
      "2016\n",
      "UCR Extension Program\n",
      " \n",
      ":\n",
      " \n",
      "Crosscultural Language and Academic Dev. Cert\n",
      " \n",
      "2005\n",
      " \n",
      "University Of San Diego\n",
      " \n",
      ", \n",
      "City\n",
      " \n",
      ", \n",
      "State\n",
      " \n",
      ", \n",
      "USA\n",
      " \n",
      "Crosscultural\n",
      "Language and Academic Dev. Cert\n",
      "Bachelor of Science\n",
      " \n",
      ":\n",
      " \n",
      "Agriculture Education\n",
      " \n",
      "1995\n",
      " \n",
      "Agriculture Education\n",
      "Affiliations\n",
      "National Education Association (NEA), 1995 to present\n",
      "CTA 1995 to present\n",
      "Skills\n",
      "Excellent classroom managementÂ \n",
      "Experience working with special needs students, as I feel Ag and special needs go and and hand\n",
      "Effectively work with parents\n",
      "Motivating students\n",
      "Innovative lesson planning\n",
      "Positive atmosphere promotion\n",
      "Advise students on academic and vocational curricula and on career issues\n",
      "Community Service\n",
      "Blooming FFA we completed jacket drives for the less needy\n",
      "Bloomington FFA completed shoe drives\n",
      "We put together turkey, Thanksgiving Food Baskets, for up too 25 needy families for both Christmas and Thanksgiving\n",
      "I worked with local 4H clubs, High Desert Challengers, Phelan Roadrunners, and Mojave Greens and we put together clothing drives,\n",
      "jacket drives and toy drives for the less fortunate\n",
      "Worked with the Builders Club and helped with the Veterans Dinner\n",
      "Additional Information\n",
      "Material Development - created college prep lessons targeting college bound students with Process Improvement. Develop new courses\n",
      "that resulted in program growth Plan Develop to create an engaging educational experience.\n",
      "Plan Development - I am able to plan and conduct activities for a balanced program of instruction, demonstration, and work time that\n",
      "provided students with opportunity to observe, question, and investigate.\n",
      "Goal Setting - established clear objectives for all lessons/projects and communicated with students, achieving a total understanding of\n",
      "grading rubric and overall class expectations\n",
      "Parent Communication - Regularly met with parents to discuss student issues and course weakness areas.\n",
      "Student-Centered Curriculum Planning - Developed mid-semester evaluation for students to give feedback about curriculum and suggest\n",
      "alternative course materials and subjects for remainder of year.\n"
     ]
    }
   ],
   "source": [
    "PATH = PATHs[0]\n",
    "# Load the PDF file\n",
    "pdf_file = open(PATH, 'rb')\n",
    "reader = PyPDF2.PdfReader(pdf_file)\n",
    "\n",
    "# Extract text from each page\n",
    "for page in reader.pages:\n",
    "    text = page.extract_text()\n",
    "    print(text)"
   ]
  },
  {
   "cell_type": "markdown",
   "metadata": {},
   "source": [
    "### 1.1 Libraries to preprocess the text\n",
    "\n",
    "- lemmatization\n",
    "- tokenization\n",
    "- removing irrelevant characters\n",
    "- converting text to lowercase\n",
    "- removing stopwords"
   ]
  },
  {
   "cell_type": "code",
   "execution_count": 7,
   "metadata": {},
   "outputs": [
    {
     "name": "stdout",
     "output_type": "stream",
     "text": [
      "['the', 'quick', 'brown', 'fox', 'jumped', 'over', 'the', 'lazy', 'dog']\n"
     ]
    }
   ],
   "source": [
    "\n",
    "text = \"The quick brown fox jumped over the lazy dog.\"\n",
    "\n",
    "# Preprocess the text\n",
    "preprocessed_text = simple_preprocess(text)\n",
    "print(preprocessed_text)\n"
   ]
  },
  {
   "cell_type": "code",
   "execution_count": 21,
   "metadata": {},
   "outputs": [
    {
     "name": "stdout",
     "output_type": "stream",
     "text": [
      "Collecting en-core-web-md==3.7.1\n",
      "  Downloading https://github.com/explosion/spacy-models/releases/download/en_core_web_md-3.7.1/en_core_web_md-3.7.1-py3-none-any.whl (42.8 MB)\n",
      "\u001b[2K     \u001b[90m━━━━━━━━━━━━━━━━━━━━━━━━━━━━━━━━━━━━━━━\u001b[0m \u001b[32m42.8/42.8 MB\u001b[0m \u001b[31m763.5 kB/s\u001b[0m eta \u001b[36m0:00:00\u001b[0m00:01\u001b[0m00:02\u001b[0m\n",
      "\u001b[?25hRequirement already satisfied: spacy<3.8.0,>=3.7.2 in /Users/riccardotedoldi/mambaforge/envs/ml/lib/python3.10/site-packages (from en-core-web-md==3.7.1) (3.7.2)\n",
      "Requirement already satisfied: typer<0.10.0,>=0.3.0 in /Users/riccardotedoldi/mambaforge/envs/ml/lib/python3.10/site-packages (from spacy<3.8.0,>=3.7.2->en-core-web-md==3.7.1) (0.9.0)\n",
      "Requirement already satisfied: wasabi<1.2.0,>=0.9.1 in /Users/riccardotedoldi/mambaforge/envs/ml/lib/python3.10/site-packages (from spacy<3.8.0,>=3.7.2->en-core-web-md==3.7.1) (1.1.2)\n",
      "Requirement already satisfied: srsly<3.0.0,>=2.4.3 in /Users/riccardotedoldi/mambaforge/envs/ml/lib/python3.10/site-packages (from spacy<3.8.0,>=3.7.2->en-core-web-md==3.7.1) (2.4.8)\n",
      "Requirement already satisfied: setuptools in /Users/riccardotedoldi/mambaforge/envs/ml/lib/python3.10/site-packages (from spacy<3.8.0,>=3.7.2->en-core-web-md==3.7.1) (65.6.3)\n",
      "Requirement already satisfied: preshed<3.1.0,>=3.0.2 in /Users/riccardotedoldi/mambaforge/envs/ml/lib/python3.10/site-packages (from spacy<3.8.0,>=3.7.2->en-core-web-md==3.7.1) (3.0.9)\n",
      "Requirement already satisfied: numpy>=1.19.0 in /Users/riccardotedoldi/mambaforge/envs/ml/lib/python3.10/site-packages (from spacy<3.8.0,>=3.7.2->en-core-web-md==3.7.1) (1.23.5)\n",
      "Requirement already satisfied: cymem<2.1.0,>=2.0.2 in /Users/riccardotedoldi/mambaforge/envs/ml/lib/python3.10/site-packages (from spacy<3.8.0,>=3.7.2->en-core-web-md==3.7.1) (2.0.8)\n",
      "Requirement already satisfied: pydantic!=1.8,!=1.8.1,<3.0.0,>=1.7.4 in /Users/riccardotedoldi/mambaforge/envs/ml/lib/python3.10/site-packages (from spacy<3.8.0,>=3.7.2->en-core-web-md==3.7.1) (2.5.2)\n",
      "Requirement already satisfied: tqdm<5.0.0,>=4.38.0 in /Users/riccardotedoldi/mambaforge/envs/ml/lib/python3.10/site-packages (from spacy<3.8.0,>=3.7.2->en-core-web-md==3.7.1) (4.65.0)\n",
      "Requirement already satisfied: langcodes<4.0.0,>=3.2.0 in /Users/riccardotedoldi/mambaforge/envs/ml/lib/python3.10/site-packages (from spacy<3.8.0,>=3.7.2->en-core-web-md==3.7.1) (3.3.0)\n",
      "Requirement already satisfied: jinja2 in /Users/riccardotedoldi/mambaforge/envs/ml/lib/python3.10/site-packages (from spacy<3.8.0,>=3.7.2->en-core-web-md==3.7.1) (3.1.2)\n",
      "Requirement already satisfied: weasel<0.4.0,>=0.1.0 in /Users/riccardotedoldi/mambaforge/envs/ml/lib/python3.10/site-packages (from spacy<3.8.0,>=3.7.2->en-core-web-md==3.7.1) (0.3.4)\n",
      "Requirement already satisfied: smart-open<7.0.0,>=5.2.1 in /Users/riccardotedoldi/mambaforge/envs/ml/lib/python3.10/site-packages (from spacy<3.8.0,>=3.7.2->en-core-web-md==3.7.1) (6.3.0)\n",
      "Requirement already satisfied: requests<3.0.0,>=2.13.0 in /Users/riccardotedoldi/mambaforge/envs/ml/lib/python3.10/site-packages (from spacy<3.8.0,>=3.7.2->en-core-web-md==3.7.1) (2.28.1)\n",
      "Requirement already satisfied: spacy-legacy<3.1.0,>=3.0.11 in /Users/riccardotedoldi/mambaforge/envs/ml/lib/python3.10/site-packages (from spacy<3.8.0,>=3.7.2->en-core-web-md==3.7.1) (3.0.12)\n",
      "Requirement already satisfied: spacy-loggers<2.0.0,>=1.0.0 in /Users/riccardotedoldi/mambaforge/envs/ml/lib/python3.10/site-packages (from spacy<3.8.0,>=3.7.2->en-core-web-md==3.7.1) (1.0.5)\n",
      "Requirement already satisfied: catalogue<2.1.0,>=2.0.6 in /Users/riccardotedoldi/mambaforge/envs/ml/lib/python3.10/site-packages (from spacy<3.8.0,>=3.7.2->en-core-web-md==3.7.1) (2.0.10)\n",
      "Requirement already satisfied: thinc<8.3.0,>=8.1.8 in /Users/riccardotedoldi/mambaforge/envs/ml/lib/python3.10/site-packages (from spacy<3.8.0,>=3.7.2->en-core-web-md==3.7.1) (8.2.1)\n",
      "Requirement already satisfied: murmurhash<1.1.0,>=0.28.0 in /Users/riccardotedoldi/mambaforge/envs/ml/lib/python3.10/site-packages (from spacy<3.8.0,>=3.7.2->en-core-web-md==3.7.1) (1.0.10)\n",
      "Requirement already satisfied: packaging>=20.0 in /Users/riccardotedoldi/mambaforge/envs/ml/lib/python3.10/site-packages (from spacy<3.8.0,>=3.7.2->en-core-web-md==3.7.1) (23.0)\n",
      "Requirement already satisfied: annotated-types>=0.4.0 in /Users/riccardotedoldi/mambaforge/envs/ml/lib/python3.10/site-packages (from pydantic!=1.8,!=1.8.1,<3.0.0,>=1.7.4->spacy<3.8.0,>=3.7.2->en-core-web-md==3.7.1) (0.6.0)\n",
      "Requirement already satisfied: pydantic-core==2.14.5 in /Users/riccardotedoldi/mambaforge/envs/ml/lib/python3.10/site-packages (from pydantic!=1.8,!=1.8.1,<3.0.0,>=1.7.4->spacy<3.8.0,>=3.7.2->en-core-web-md==3.7.1) (2.14.5)\n",
      "Requirement already satisfied: typing-extensions>=4.6.1 in /Users/riccardotedoldi/mambaforge/envs/ml/lib/python3.10/site-packages (from pydantic!=1.8,!=1.8.1,<3.0.0,>=1.7.4->spacy<3.8.0,>=3.7.2->en-core-web-md==3.7.1) (4.9.0)\n",
      "Requirement already satisfied: certifi>=2017.4.17 in /Users/riccardotedoldi/mambaforge/envs/ml/lib/python3.10/site-packages (from requests<3.0.0,>=2.13.0->spacy<3.8.0,>=3.7.2->en-core-web-md==3.7.1) (2023.5.7)\n",
      "Requirement already satisfied: charset-normalizer<3,>=2 in /Users/riccardotedoldi/mambaforge/envs/ml/lib/python3.10/site-packages (from requests<3.0.0,>=2.13.0->spacy<3.8.0,>=3.7.2->en-core-web-md==3.7.1) (2.0.4)\n",
      "Requirement already satisfied: urllib3<1.27,>=1.21.1 in /Users/riccardotedoldi/mambaforge/envs/ml/lib/python3.10/site-packages (from requests<3.0.0,>=2.13.0->spacy<3.8.0,>=3.7.2->en-core-web-md==3.7.1) (1.26.14)\n",
      "Requirement already satisfied: idna<4,>=2.5 in /Users/riccardotedoldi/mambaforge/envs/ml/lib/python3.10/site-packages (from requests<3.0.0,>=2.13.0->spacy<3.8.0,>=3.7.2->en-core-web-md==3.7.1) (3.4)\n",
      "Requirement already satisfied: blis<0.8.0,>=0.7.8 in /Users/riccardotedoldi/mambaforge/envs/ml/lib/python3.10/site-packages (from thinc<8.3.0,>=8.1.8->spacy<3.8.0,>=3.7.2->en-core-web-md==3.7.1) (0.7.11)\n",
      "Requirement already satisfied: confection<1.0.0,>=0.0.1 in /Users/riccardotedoldi/mambaforge/envs/ml/lib/python3.10/site-packages (from thinc<8.3.0,>=8.1.8->spacy<3.8.0,>=3.7.2->en-core-web-md==3.7.1) (0.1.4)\n",
      "Requirement already satisfied: click<9.0.0,>=7.1.1 in /Users/riccardotedoldi/mambaforge/envs/ml/lib/python3.10/site-packages (from typer<0.10.0,>=0.3.0->spacy<3.8.0,>=3.7.2->en-core-web-md==3.7.1) (8.1.3)\n",
      "Requirement already satisfied: cloudpathlib<0.17.0,>=0.7.0 in /Users/riccardotedoldi/mambaforge/envs/ml/lib/python3.10/site-packages (from weasel<0.4.0,>=0.1.0->spacy<3.8.0,>=3.7.2->en-core-web-md==3.7.1) (0.16.0)\n",
      "Requirement already satisfied: MarkupSafe>=2.0 in /Users/riccardotedoldi/mambaforge/envs/ml/lib/python3.10/site-packages (from jinja2->spacy<3.8.0,>=3.7.2->en-core-web-md==3.7.1) (2.1.2)\n",
      "Installing collected packages: en-core-web-md\n",
      "Successfully installed en-core-web-md-3.7.1\n",
      "\u001b[38;5;2m✔ Download and installation successful\u001b[0m\n",
      "You can now load the package via spacy.load('en_core_web_md')\n"
     ]
    }
   ],
   "source": [
    "!python -m spacy download en_core_web_md"
   ]
  },
  {
   "cell_type": "code",
   "execution_count": 30,
   "metadata": {},
   "outputs": [
    {
     "name": "stdout",
     "output_type": "stream",
     "text": [
      "[('The', 'the'), ('University', 'University'), ('of', 'of'), ('Trento', 'Trento'), ('is', 'be'), ('an', 'an'), ('Italian', 'italian'), ('university', 'university'), ('located', 'locate'), ('in', 'in'), ('Trento', 'Trento'), ('and', 'and'), ('nearby', 'nearby'), ('Rovereto', 'Rovereto'), ('.', '.'), ('It', 'it'), ('has', 'have'), ('been', 'be'), ('able', 'able'), ('to', 'to'), ('achieve', 'achieve'), ('considerable', 'considerable'), ('results', 'result'), ('in', 'in'), ('didactics', 'didactic'), (',', ','), ('research', 'research'), (',', ','), ('and', 'and'), ('international', 'international'), ('relations', 'relation'), ('according', 'accord'), ('to', 'to'), ('CENSIS', 'CENSIS'), ('and', 'and'), ('the', 'the'), ('Italian', 'italian'), ('Ministry', 'Ministry'), ('of', 'of'), ('Education', 'Education'), ('.', '.')]\n",
      "['the', 'University', 'of', 'Trento', 'be', 'an', 'italian', 'university', 'locate', 'in', 'Trento', 'and', 'nearby', 'Rovereto', '.', 'it', 'have', 'be', 'able', 'to', 'achieve', 'considerable', 'result', 'in', 'didactic', ',', 'research', ',', 'and', 'international', 'relation', 'accord', 'to', 'CENSIS', 'and', 'the', 'italian', 'Ministry', 'of', 'Education', '.']\n",
      "[('The University of Trento', 'ORG'), ('Italian', 'NORP'), ('Trento', 'GPE'), ('Rovereto', 'GPE'), ('CENSIS', 'ORG'), ('the Italian Ministry of Education', 'ORG')]\n"
     ]
    }
   ],
   "source": [
    "\n",
    "# nlp = spacy.load(\"en_core_web_sm\")\n",
    "nlp = spacy.load(\"en_core_web_md\")\n",
    "\n",
    "text = \"The quick brown fox jumped over the lazy dog on the sofa.\"\n",
    "text = \"Google LLC is an American multinational technology company that specializes in Internet-related services and products, which include online advertising technologies, a search engine, cloud computing, software, and hardware. It is considered one of the Big Four technology companies alongside Amazon, Apple, and Microsoft\"\n",
    "text = \"The University of Trento is an Italian university located in Trento and nearby Rovereto. It has been able to achieve considerable results in didactics, research, and international relations according to CENSIS and the Italian Ministry of Education.\"\n",
    "# Process the text using spaCy's pipeline\n",
    "doc = nlp(text)\n",
    "\n",
    "# Access the tokens and their lemmas\n",
    "print([(tokens.text, tokens.lemma_) for tokens in doc])\n",
    "print([tokens.lemma_ for tokens in doc])\n",
    "\n",
    "# Access the tokens and their part-of-speech tags\n",
    "print([(tokens.text, tokens.label_) for tokens in doc.ents])\n"
   ]
  },
  {
   "cell_type": "markdown",
   "metadata": {},
   "source": [
    "### 1.2 Extract and preprocess text"
   ]
  },
  {
   "cell_type": "code",
   "execution_count": 34,
   "metadata": {},
   "outputs": [],
   "source": [
    "PATH = PATHs[0]\n",
    "text_cv = nlp([page.extract_text() for page in PyPDF2.PdfReader(open(PATH, 'rb')).pages][0])"
   ]
  },
  {
   "cell_type": "code",
   "execution_count": 36,
   "metadata": {},
   "outputs": [
    {
     "name": "stdout",
     "output_type": "stream",
     "text": [
      "[('more than 20 years', 'DATE'), ('FFA', 'ORG'), ('Credit Recovery Programs', 'ORG'), ('Covina', 'GPE'), ('Bloomington High School', 'ORG'), ('Adult Education Program', 'ORG'), ('the Colton Joint Unified School District', 'ORG'), ('State\\n \\nAgriculture/Credit Recovery', 'ORG'), ('08/2000', 'CARDINAL'), ('Goal Setting Established', 'ORG'), ('Parent Communication Regularly', 'ORG'), ('Student-Centered Curriculum Planning Developed', 'ORG'), ('mid-semester', 'DATE'), ('year', 'DATE'), ('80%', 'PERCENT'), ('08/2000', 'CARDINAL'), ('80%', 'PERCENT'), ('Cal Poly', 'ORG'), ('Pomona', 'GPE'), ('Pomona', 'GPE'), ('CA', 'GPE'), ('USA Community Involvement Been', 'ORG'), ('4Hfor', 'CARDINAL'), ('the last 12 years', 'DATE'), ('the San Bernardino County Fair', 'LOC'), ('Lesson Planning', 'ORG'), ('National Education Association', 'ORG'), ('NEA', 'ORG'), ('1995', 'DATE'), ('1995', 'DATE'), ('Skills\\nExcellent', 'ORG'), ('Ag', 'ORG'), ('Community Service', 'ORG')]\n"
     ]
    }
   ],
   "source": [
    "print([(tokens.text, tokens.label_) for tokens in text_cv.ents])"
   ]
  },
  {
   "cell_type": "code",
   "execution_count": 56,
   "metadata": {},
   "outputs": [
    {
     "name": "stdout",
     "output_type": "stream",
     "text": [
      "['adult', 'education', 'instructor', '\\n', 'Summary', '\\n', 'Seasoned', 'Agriculture', 'Teacher', 'with', 'more', 'than', '20', 'year', 'of', 'experience', 'in', 'this', 'world', 'of', 'education', '.', 'excellent', 'teaching', 'and', 'leadership', 'skill', '.', 'track', '\\n', 'record', 'of', 'achieve', 'exceptional', 'result', 'in', 'not', 'only', 'FFA', 'program', 'but', 'also', 'Credit', 'Recovery', 'Programs', 'at', 'my', 'current', 'high', 'school', 'and', 'program', '\\n', 'improvement', 'in', 'number', 'at', 'not', 'only', 'Covina', 'High', 'School', 'but', 'also', 'Bloomington', 'High', 'School', '.', 'I', 'have', 'also', 'be', 'involve', 'with', 'bring', 'to', 'life', 'the', '\\n', 'Adult', 'Education', 'Program', 'in', 'the', 'Colton', 'Joint', 'Unified', 'School', 'District', '.', 'Â', 'Â', '\\n ', 'compassionate', 'teacher', 'excite', 'to', 'take', 'on', 'new', 'professional', 'challenge', '\\n', 'and', 'assist', 'studentsÂ', 'in', 'improve', 'learning', 'skill', ',', 'and', 'ability', '.', 'hardworke', 'and', 'responsible', 'professional', 'adept', 'at', 'crisis', 'response', 'and', 'activity', '\\n', 'planning', '.', '\\n', 'experience', '\\n', 'Company', 'Name', '\\n \\n', 'City', '\\n \\n', ',', '\\n', 'State', '\\n \\n', 'Adult', 'Education', 'Instructor', '\\n \\n', '08/2016', '\\n \\n', 'to', '\\n', 'Current', '\\n \\n', 'develop', 'a', 'diploma', 'program', 'that', 'fit', 'the', 'need', 'of', 'the', 'community', ',', '\\n', 'continue', 'to', 'work', 'with', 'the', 'community', 'and', 'want', 'to', 'see', 'the', 'student', 'succeed', 'move', 'on', 'into', 'either', 'industry', 'or', 'collegeÂ', '\\n', 'Company', 'Name', '\\n \\n', 'City', '\\n \\n', ',', '\\n', 'State', '\\n \\n', 'Agriculture', '/', 'Credit', 'Recovery', 'Teacher', '\\n \\n', '08/2000', '\\n \\n', 'to', '\\n', 'current', '\\n', 'Planned', 'and', 'conduct', 'activity', 'for', 'a', 'balanced', 'program', 'of', 'instruction', ',', 'demonstration', ',', 'and', 'work', 'time', 'that', 'provide', 'student', 'with', '\\n', 'opportunity', 'to', 'observe', ',', 'question', ',', 'and', 'investigate', '.', '\\n', 'Goal', 'set', 'establish', 'clear', 'objective', 'for', 'all', 'lesson', '/', 'project', 'and', 'communicate', 'with', 'student', ',', 'achieve', 'a', 'total', 'understanding', 'of', 'grade', '\\n', 'rubric', 'and', 'overall', 'class', 'expectation', '.', '\\n', 'Parent', 'Communication', 'Regularly', 'meet', 'with', 'parent', 'to', 'discuss', 'student', 'issue', 'and', 'course', 'weakness', 'area', '.', '\\n', 'student', '-', 'Centered', 'Curriculum', 'planning', 'develop', 'mid', '-', 'semester', 'evaluation', 'for', 'student', 'to', 'give', 'feedback', 'about', 'current', 'curriculum', 'and', '\\n', 'suggest', 'alternative', 'course', 'material', 'and', 'subject', 'for', 'remainder', 'of', 'year', '.', '\\n', 'develop', 'interesting', 'course', 'plan', 'to', 'meet', 'academic', ',', 'intellectual', 'and', 'social', 'need', 'of', 'student', '.', '\\n', 'develop', 'and', 'implement', 'interesting', 'and', 'interactive', 'learning', 'medium', 'to', 'increase', 'student', 'understanding', 'of', 'course', 'material', '.', '\\n', 'routinely', 'meet', 'with', 'student', \"'\", 'parent', 'regard', 'in', '-', 'class', 'issue', 'and', 'learn', 'interruption', 'to', 'discuss', 'solution', '.', '\\n', 'receive', 'high', 'remark', 'for', 'the', 'creativity', 'of', 'classroom', 'lesson', 'plan', 'and', 'instructional', 'technique', 'from', 'student', ',', 'parent', 'and', 'faculty', '.', '\\n', 'create', 'and', 'enforce', 'child', '-', 'base', 'hand', '-', 'on', 'curriculum', 'to', 'promote', 'student', 'interest', 'and', 'receptive', 'learning', '.', '\\n', 'implement', 'student', 'discipline', 'measure', ',', 'decrease', 'classroom', 'disruption', 'by', '80', '%', '.', '\\n', 'combined', 'discipline', 'plan', 'with', 'effective', 'measure', 'and', 'various', 'lesson', 'plan', 'to', 'increase', 'concentration', ',', 'participation', ',', 'and', 'progress', 'student', '\\n', 'accountability', '.', '\\n', 'company', 'Name', '\\n \\n', 'City', '\\n \\n', ',', '\\n', 'State', '\\n \\n', 'Agriculture', 'Teacher', '\\n \\n', '08/1995', '\\n \\n', 'to', '\\n', '08/2000', '\\n', 'develop', 'interesting', 'course', 'plan', 'to', 'meet', 'academic', ',', 'intellectual', 'and', 'social', 'need', 'of', 'student', '.', '\\n', 'develop', 'and', 'implement', 'interesting', 'and', 'interactive', 'learning', 'medium', 'to', 'increase', 'student', 'understanding', 'of', 'course', 'material', '.', '\\n', 'routinely', 'meet', 'with', 'student', \"'\", 'parent', 'regard', 'in', '-', 'class', 'issue', 'and', 'learn', 'interruption', 'to', 'discuss', 'solution', '.', 'implement', 'student', 'discipline', '\\n', 'measure', ',', 'decrease', 'classroom', 'disruption', 'by', '80', '%', '.', '\\n', 'accomplishment', '\\n', 'Cal', 'Poly', 'Pomona', '\\n', 'Pomona', ',', 'CA', ',', 'USA', 'Community', 'Involvement', 'be', 'a', 'leader', 'with', 'High', 'Desert', 'Challengers', '4hfor', 'the', 'last', '12', 'year', '.', '\\n', 'have', 'be', 'involve', 'with', 'help', 'the', 'kid', 'raise', 'animal', 'to', 'learn', 'how', 'to', 'sew', 'for', 'the', 'San', 'Bernardino', 'County', 'Fair', '.', '\\n', 'Material', 'Development', '\\n', 'create', '\\n', 'Diploma', 'program', 'for', 'Adult', 'EducationÂ', '\\n ', 'target', 'student', 'who', 'have', 'the', 'desire', 'to', 'achieve', 'receive', 'their', 'diploma', 'andâ', '\\n ', 'Â', '\\n', 'to', 'create', 'an', 'engaging', 'educational', 'experience', '.', '\\n', 'Lesson', 'Planning', ':', '\\n', 'introduce', 'new', 'learning', 'method', 'to', 'ensure', 'total', 'comprehension', 'for', 'all', 'student', '.', '\\n', 'â€‹', '\\n', 'education', '\\n', 'Subject', 'Matter', 'Authorization', 'in', 'Science', ':', 'science', '\\n \\n', '2016', '\\n', 'UCR', 'Extension', 'Program', '\\n \\n', ':', '\\n \\n', 'Crosscultural', 'Language', 'and', 'Academic', 'Dev', '.', 'Cert', '\\n \\n', '2005', '\\n \\n', 'University', 'of', 'San', 'Diego', '\\n \\n', ',', '\\n', 'City', '\\n \\n', ',', '\\n', 'state', '\\n \\n', ',', '\\n', 'USA', '\\n \\n', 'Crosscultural', '\\n', 'Language', 'and', 'Academic', 'Dev', '.', 'Cert', '\\n', 'Bachelor', 'of', 'Science', '\\n \\n', ':', '\\n \\n', 'Agriculture', 'Education', '\\n \\n', '1995', '\\n \\n', 'Agriculture', 'Education', '\\n', 'Affiliations', '\\n', 'National', 'Education', 'Association', '(', 'NEA', ')', ',', '1995', 'to', 'present', '\\n', 'CTA', '1995', 'to', 'present', '\\n', 'skill', '\\n', 'excellent', 'classroom', 'managementÂ', '\\n', 'experience', 'work', 'with', 'special', 'need', 'student', ',', 'as', 'I', 'feel', 'Ag', 'and', 'special', 'need', 'go', 'and', 'and', 'hand', '\\n', 'effectively', 'work', 'with', 'parent', '\\n', 'Motivating', 'student', '\\n', 'Innovative', 'lesson', 'planning', '\\n', 'positive', 'atmosphere', 'promotion', '\\n', 'Advise', 'student', 'on', 'academic', 'and', 'vocational', 'curriculum', 'and', 'on', 'career', 'issue', '\\n', 'Community', 'Service']\n",
      "['ADULT EDUCATION INSTRUCTOR\\nSummary\\nSeasoned Agriculture Teacher with more than 20 years of experience in this world of education.', 'Excellent teaching and leadership skills.', 'Track\\nrecord of achieving exceptional results in not only FFA programs but also Credit Recovery Programs at my current high school and program\\nimprovement in numbers at not only Covina High School but also Bloomington High School.', 'I have also been involved with bringing to life the\\nAdult Education Program in the Colton Joint Unified School District.Â Â \\n Compassionate teacher excited to take on new professional challenges\\nand assist studentsÂ in improving learning skills, and abilities.', 'Hardworking and responsible professional adept at crisis response and activity\\nplanning.', 'Experience\\nCompany Name\\n \\nCity\\n \\n, \\nState\\n \\nAdult Education Instructor\\n \\n08/2016\\n \\nto \\nCurrent\\n \\nDeveloped a diploma program that fit the needs of the community,\\ncontinues to work with the community and wants to see the students succeed move on into either industry or collegeÂ \\nCompany Name\\n \\nCity\\n \\n, \\nState\\n \\nAgriculture/Credit Recovery Teacher\\n \\n08/2000\\n \\nto \\nCurrent\\nPlanned and conducted activities for a balanced program of instruction, demonstration, and work time that provided students with\\nopportunities to observe, question, and investigate.', 'Goal Setting Established clear objectives for all lessons/projects and communicated with students, achieving a total understanding of grading\\nrubric and overall class expectations.', 'Parent Communication Regularly met with parents to discuss student issues and course weakness areas.', 'Student-Centered Curriculum Planning Developed mid-semester evaluation for students to give feedback about current curriculum and\\nsuggest alternative course materials and subjects for remainder of year.', 'Developed interesting course plans to meet academic, intellectual and social needs of students.', 'Developed and implemented interesting and interactive learning mediums to increase student understanding of course materials.', \"Routinely met with students' parents regarding in-class issues and learning interruptions to discuss solutions.\", 'Received high remarks for the creativity of classroom lesson plans and instructional techniques from students, parents and faculty.', 'Created and enforced child-based hands-on curriculum to promote student interest and receptive learning.', 'Implemented student discipline measures, decreasing classroom disruptions by 80%.', 'Combined discipline plan with effective measures and various lesson plans to increase concentration, participation, and progress student\\naccountability.', 'Company Name\\n \\nCity\\n \\n, \\nState\\n \\nAgriculture Teacher\\n \\n08/1995\\n \\nto \\n08/2000\\nDeveloped interesting course plans to meet academic, intellectual and social needs of students.', 'Developed and implemented interesting and interactive learning mediums to increase student understanding of course materials.', \"Routinely met with students' parents regarding in-class issues and learning interruptions to discuss solutions.Implemented student discipline\\nmeasures, decreasing classroom disruptions by 80%.\", 'Accomplishments\\nCal Poly Pomona \\nPomona, CA, USA Community Involvement Been a leader with High Desert Challengers 4Hfor the last 12 years.', 'Have been involved with helping the kids raise animals to learning how to sew for the San Bernardino County Fair.', 'Material Development\\nCreated \\nDiploma program for Adult EducationÂ \\n targeting students who have the desire to achieve receiving their diploma andÂ \\n Â \\nto create an engaging educational experience.', 'Lesson Planning:\\nIntroduced new learning methods to ensure total comprehension for all students.', 'â€‹\\nEducation\\nSubject Matter Authorization in Science: Science\\n \\n2016\\nUCR Extension Program\\n \\n:\\n \\nCrosscultural Language and Academic Dev.', 'Cert\\n \\n2005\\n \\nUniversity Of San Diego\\n \\n, \\nCity\\n \\n, \\nState\\n \\n, \\nUSA\\n \\nCrosscultural\\nLanguage and Academic Dev.', 'Cert\\nBachelor of Science\\n \\n:\\n \\nAgriculture Education\\n \\n1995\\n \\nAgriculture Education\\nAffiliations\\nNational Education Association (NEA), 1995 to present\\nCTA 1995 to present\\nSkills\\nExcellent classroom managementÂ \\nExperience working with special needs students, as I feel Ag and special needs go and and hand\\nEffectively work with parents\\nMotivating students\\nInnovative lesson planning\\nPositive atmosphere promotion\\nAdvise students on academic and vocational curricula and on career issues\\nCommunity Service']\n",
      "['ADULT', 'EDUCATION', 'INSTRUCTOR', 'Summary', 'Seasoned', 'Agriculture', 'Teacher', 'with', 'more', 'than', '20', 'years', 'of', 'experience', 'in', 'this', 'world', 'of', 'education', '.', 'Excellent', 'teaching', 'and', 'leadership', 'skills', '.', 'Track', 'record', 'of', 'achieving', 'exceptional', 'results', 'in', 'not', 'only', 'FFA', 'programs', 'but', 'also', 'Credit', 'Recovery', 'Programs', 'at', 'my', 'current', 'high', 'school', 'and', 'program', 'improvement', 'in', 'numbers', 'at', 'not', 'only', 'Covina', 'High', 'School', 'but', 'also', 'Bloomington', 'High', 'School', '.', 'I', 'have', 'also', 'been', 'involved', 'with', 'bringing', 'to', 'life', 'the', 'Adult', 'Education', 'Program', 'in', 'the', 'Colton', 'Joint', 'Unified', 'School', 'District.Â', 'Â', 'Compassionate', 'teacher', 'excited', 'to', 'take', 'on', 'new', 'professional', 'challenges', 'and', 'assist', 'studentsÂ', 'in', 'improving', 'learning', 'skills', ',', 'and', 'abilities', '.', 'Hardworking', 'and', 'responsible', 'professional', 'adept', 'at', 'crisis', 'response', 'and', 'activity', 'planning', '.', 'Experience', 'Company', 'Name', 'City', ',', 'State', 'Adult', 'Education', 'Instructor', '08/2016', 'to', 'Current', 'Developed', 'a', 'diploma', 'program', 'that', 'fit', 'the', 'needs', 'of', 'the', 'community', ',', 'continues', 'to', 'work', 'with', 'the', 'community', 'and', 'wants', 'to', 'see', 'the', 'students', 'succeed', 'move', 'on', 'into', 'either', 'industry', 'or', 'collegeÂ', 'Company', 'Name', 'City', ',', 'State', 'Agriculture/Credit', 'Recovery', 'Teacher', '08/2000', 'to', 'Current', 'Planned', 'and', 'conducted', 'activities', 'for', 'a', 'balanced', 'program', 'of', 'instruction', ',', 'demonstration', ',', 'and', 'work', 'time', 'that', 'provided', 'students', 'with', 'opportunities', 'to', 'observe', ',', 'question', ',', 'and', 'investigate', '.', 'Goal', 'Setting', 'Established', 'clear', 'objectives', 'for', 'all', 'lessons/projects', 'and', 'communicated', 'with', 'students', ',', 'achieving', 'a', 'total', 'understanding', 'of', 'grading', 'rubric', 'and', 'overall', 'class', 'expectations', '.', 'Parent', 'Communication', 'Regularly', 'met', 'with', 'parents', 'to', 'discuss', 'student', 'issues', 'and', 'course', 'weakness', 'areas', '.', 'Student-Centered', 'Curriculum', 'Planning', 'Developed', 'mid-semester', 'evaluation', 'for', 'students', 'to', 'give', 'feedback', 'about', 'current', 'curriculum', 'and', 'suggest', 'alternative', 'course', 'materials', 'and', 'subjects', 'for', 'remainder', 'of', 'year', '.', 'Developed', 'interesting', 'course', 'plans', 'to', 'meet', 'academic', ',', 'intellectual', 'and', 'social', 'needs', 'of', 'students', '.', 'Developed', 'and', 'implemented', 'interesting', 'and', 'interactive', 'learning', 'mediums', 'to', 'increase', 'student', 'understanding', 'of', 'course', 'materials', '.', 'Routinely', 'met', 'with', 'students', \"'\", 'parents', 'regarding', 'in-class', 'issues', 'and', 'learning', 'interruptions', 'to', 'discuss', 'solutions', '.', 'Received', 'high', 'remarks', 'for', 'the', 'creativity', 'of', 'classroom', 'lesson', 'plans', 'and', 'instructional', 'techniques', 'from', 'students', ',', 'parents', 'and', 'faculty', '.', 'Created', 'and', 'enforced', 'child-based', 'hands-on', 'curriculum', 'to', 'promote', 'student', 'interest', 'and', 'receptive', 'learning', '.', 'Implemented', 'student', 'discipline', 'measures', ',', 'decreasing', 'classroom', 'disruptions', 'by', '80', '%', '.', 'Combined', 'discipline', 'plan', 'with', 'effective', 'measures', 'and', 'various', 'lesson', 'plans', 'to', 'increase', 'concentration', ',', 'participation', ',', 'and', 'progress', 'student', 'accountability', '.', 'Company', 'Name', 'City', ',', 'State', 'Agriculture', 'Teacher', '08/1995', 'to', '08/2000', 'Developed', 'interesting', 'course', 'plans', 'to', 'meet', 'academic', ',', 'intellectual', 'and', 'social', 'needs', 'of', 'students', '.', 'Developed', 'and', 'implemented', 'interesting', 'and', 'interactive', 'learning', 'mediums', 'to', 'increase', 'student', 'understanding', 'of', 'course', 'materials', '.', 'Routinely', 'met', 'with', 'students', \"'\", 'parents', 'regarding', 'in-class', 'issues', 'and', 'learning', 'interruptions', 'to', 'discuss', 'solutions.Implemented', 'student', 'discipline', 'measures', ',', 'decreasing', 'classroom', 'disruptions', 'by', '80', '%', '.', 'Accomplishments', 'Cal', 'Poly', 'Pomona', 'Pomona', ',', 'CA', ',', 'USA', 'Community', 'Involvement', 'Been', 'a', 'leader', 'with', 'High', 'Desert', 'Challengers', '4Hfor', 'the', 'last', '12', 'years', '.', 'Have', 'been', 'involved', 'with', 'helping', 'the', 'kids', 'raise', 'animals', 'to', 'learning', 'how', 'to', 'sew', 'for', 'the', 'San', 'Bernardino', 'County', 'Fair', '.', 'Material', 'Development', 'Created', 'Diploma', 'program', 'for', 'Adult', 'EducationÂ', 'targeting', 'students', 'who', 'have', 'the', 'desire', 'to', 'achieve', 'receiving', 'their', 'diploma', 'andÂ', 'Â', 'to', 'create', 'an', 'engaging', 'educational', 'experience', '.', 'Lesson', 'Planning', ':', 'Introduced', 'new', 'learning', 'methods', 'to', 'ensure', 'total', 'comprehension', 'for', 'all', 'students', '.', 'â€‹', 'Education', 'Subject', 'Matter', 'Authorization', 'in', 'Science', ':', 'Science', '2016', 'UCR', 'Extension', 'Program', ':', 'Crosscultural', 'Language', 'and', 'Academic', 'Dev', '.', 'Cert', '2005', 'University', 'Of', 'San', 'Diego', ',', 'City', ',', 'State', ',', 'USA', 'Crosscultural', 'Language', 'and', 'Academic', 'Dev', '.', 'Cert', 'Bachelor', 'of', 'Science', ':', 'Agriculture', 'Education', '1995', 'Agriculture', 'Education', 'Affiliations', 'National', 'Education', 'Association', '(', 'NEA', ')', ',', '1995', 'to', 'present', 'CTA', '1995', 'to', 'present', 'Skills', 'Excellent', 'classroom', 'managementÂ', 'Experience', 'working', 'with', 'special', 'needs', 'students', ',', 'as', 'I', 'feel', 'Ag', 'and', 'special', 'needs', 'go', 'and', 'and', 'hand', 'Effectively', 'work', 'with', 'parents', 'Motivating', 'students', 'Innovative', 'lesson', 'planning', 'Positive', 'atmosphere', 'promotion', 'Advise', 'students', 'on', 'academic', 'and', 'vocational', 'curricula', 'and', 'on', 'career', 'issues', 'Community', 'Service']\n"
     ]
    },
    {
     "data": {
      "text/plain": [
       "26"
      ]
     },
     "execution_count": 56,
     "metadata": {},
     "output_type": "execute_result"
    }
   ],
   "source": [
    "print([tokens.lemma_ for tokens in text_cv])\n",
    "\n",
    "# split into sentences\n",
    "sentences = sent_tokenize(text_cv.text)\n",
    "print(sentences)\n",
    "\n",
    "# split into words\n",
    "tokens = word_tokenize(text_cv.text)\n",
    "print(tokens)\n",
    "\n",
    "len(sentences)"
   ]
  },
  {
   "cell_type": "code",
   "execution_count": null,
   "metadata": {},
   "outputs": [],
   "source": []
  },
  {
   "cell_type": "code",
   "execution_count": 57,
   "metadata": {},
   "outputs": [
    {
     "data": {
      "text/plain": [
       "['ADULT EDUCATION INSTRUCTOR\\nSummary\\nSeasoned Agriculture Teacher with more than 20 years of experience in this world of education.',\n",
       " 'Excellent teaching and leadership skills.',\n",
       " 'Track\\nrecord of achieving exceptional results in not only FFA programs but also Credit Recovery Programs at my current high school and program\\nimprovement in numbers at not only Covina High School but also Bloomington High School.',\n",
       " 'I have also been involved with bringing to life the\\nAdult Education Program in the Colton Joint Unified School District.Â Â \\n Compassionate teacher excited to take on new professional challenges\\nand assist studentsÂ in improving learning skills, and abilities.',\n",
       " 'Hardworking and responsible professional adept at crisis response and activity\\nplanning.',\n",
       " 'Experience\\nCompany Name\\n \\nCity\\n \\n, \\nState\\n \\nAdult Education Instructor\\n \\n08/2016\\n \\nto \\nCurrent\\n \\nDeveloped a diploma program that fit the needs of the community,\\ncontinues to work with the community and wants to see the students succeed move on into either industry or collegeÂ \\nCompany Name\\n \\nCity\\n \\n, \\nState\\n \\nAgriculture/Credit Recovery Teacher\\n \\n08/2000\\n \\nto \\nCurrent\\nPlanned and conducted activities for a balanced program of instruction, demonstration, and work time that provided students with\\nopportunities to observe, question, and investigate.',\n",
       " 'Goal Setting Established clear objectives for all lessons/projects and communicated with students, achieving a total understanding of grading\\nrubric and overall class expectations.',\n",
       " 'Parent Communication Regularly met with parents to discuss student issues and course weakness areas.',\n",
       " 'Student-Centered Curriculum Planning Developed mid-semester evaluation for students to give feedback about current curriculum and\\nsuggest alternative course materials and subjects for remainder of year.',\n",
       " 'Developed interesting course plans to meet academic, intellectual and social needs of students.',\n",
       " 'Developed and implemented interesting and interactive learning mediums to increase student understanding of course materials.',\n",
       " \"Routinely met with students' parents regarding in-class issues and learning interruptions to discuss solutions.\",\n",
       " 'Received high remarks for the creativity of classroom lesson plans and instructional techniques from students, parents and faculty.',\n",
       " 'Created and enforced child-based hands-on curriculum to promote student interest and receptive learning.',\n",
       " 'Implemented student discipline measures, decreasing classroom disruptions by 80%.',\n",
       " 'Combined discipline plan with effective measures and various lesson plans to increase concentration, participation, and progress student\\naccountability.',\n",
       " 'Company Name\\n \\nCity\\n \\n, \\nState\\n \\nAgriculture Teacher\\n \\n08/1995\\n \\nto \\n08/2000\\nDeveloped interesting course plans to meet academic, intellectual and social needs of students.',\n",
       " 'Developed and implemented interesting and interactive learning mediums to increase student understanding of course materials.',\n",
       " \"Routinely met with students' parents regarding in-class issues and learning interruptions to discuss solutions.Implemented student discipline\\nmeasures, decreasing classroom disruptions by 80%.\",\n",
       " 'Accomplishments\\nCal Poly Pomona \\nPomona, CA, USA Community Involvement Been a leader with High Desert Challengers 4Hfor the last 12 years.',\n",
       " 'Have been involved with helping the kids raise animals to learning how to sew for the San Bernardino County Fair.',\n",
       " 'Material Development\\nCreated \\nDiploma program for Adult EducationÂ \\n targeting students who have the desire to achieve receiving their diploma andÂ \\n Â \\nto create an engaging educational experience.',\n",
       " 'Lesson Planning:\\nIntroduced new learning methods to ensure total comprehension for all students.',\n",
       " 'â€‹\\nEducation\\nSubject Matter Authorization in Science: Science\\n \\n2016\\nUCR Extension Program\\n \\n:\\n \\nCrosscultural Language and Academic Dev.',\n",
       " 'Cert\\n \\n2005\\n \\nUniversity Of San Diego\\n \\n, \\nCity\\n \\n, \\nState\\n \\n, \\nUSA\\n \\nCrosscultural\\nLanguage and Academic Dev.',\n",
       " 'Cert\\nBachelor of Science\\n \\n:\\n \\nAgriculture Education\\n \\n1995\\n \\nAgriculture Education\\nAffiliations\\nNational Education Association (NEA), 1995 to present\\nCTA 1995 to present\\nSkills\\nExcellent classroom managementÂ \\nExperience working with special needs students, as I feel Ag and special needs go and and hand\\nEffectively work with parents\\nMotivating students\\nInnovative lesson planning\\nPositive atmosphere promotion\\nAdvise students on academic and vocational curricula and on career issues\\nCommunity Service']"
      ]
     },
     "execution_count": 57,
     "metadata": {},
     "output_type": "execute_result"
    }
   ],
   "source": [
    "sentences"
   ]
  },
  {
   "cell_type": "code",
   "execution_count": 50,
   "metadata": {},
   "outputs": [],
   "source": [
    "parts = divide_text_cv_in_parts(text_cv, n_parts=5)"
   ]
  },
  {
   "cell_type": "code",
   "execution_count": 51,
   "metadata": {},
   "outputs": [
    {
     "data": {
      "text/plain": [
       "[['ADULT EDUCATION INSTRUCTOR\\nSummary\\nSeasoned Agriculture Teacher with more than 20 years of experience in this world of education.',\n",
       "  'Excellent teaching and leadership skills.',\n",
       "  'Track\\nrecord of achieving exceptional results in not only FFA programs but also Credit Recovery Programs at my current high school and program\\nimprovement in numbers at not only Covina High School but also Bloomington High School.',\n",
       "  'I have also been involved with bringing to life the\\nAdult Education Program in the Colton Joint Unified School District.Â Â \\n Compassionate teacher excited to take on new professional challenges\\nand assist studentsÂ in improving learning skills, and abilities.',\n",
       "  'Hardworking and responsible professional adept at crisis response and activity\\nplanning.'],\n",
       " ['Experience\\nCompany Name\\n \\nCity\\n \\n, \\nState\\n \\nAdult Education Instructor\\n \\n08/2016\\n \\nto \\nCurrent\\n \\nDeveloped a diploma program that fit the needs of the community,\\ncontinues to work with the community and wants to see the students succeed move on into either industry or collegeÂ \\nCompany Name\\n \\nCity\\n \\n, \\nState\\n \\nAgriculture/Credit Recovery Teacher\\n \\n08/2000\\n \\nto \\nCurrent\\nPlanned and conducted activities for a balanced program of instruction, demonstration, and work time that provided students with\\nopportunities to observe, question, and investigate.',\n",
       "  'Goal Setting Established clear objectives for all lessons/projects and communicated with students, achieving a total understanding of grading\\nrubric and overall class expectations.',\n",
       "  'Parent Communication Regularly met with parents to discuss student issues and course weakness areas.',\n",
       "  'Student-Centered Curriculum Planning Developed mid-semester evaluation for students to give feedback about current curriculum and\\nsuggest alternative course materials and subjects for remainder of year.',\n",
       "  'Developed interesting course plans to meet academic, intellectual and social needs of students.'],\n",
       " ['Developed and implemented interesting and interactive learning mediums to increase student understanding of course materials.',\n",
       "  \"Routinely met with students' parents regarding in-class issues and learning interruptions to discuss solutions.\",\n",
       "  'Received high remarks for the creativity of classroom lesson plans and instructional techniques from students, parents and faculty.',\n",
       "  'Created and enforced child-based hands-on curriculum to promote student interest and receptive learning.',\n",
       "  'Implemented student discipline measures, decreasing classroom disruptions by 80%.'],\n",
       " ['Combined discipline plan with effective measures and various lesson plans to increase concentration, participation, and progress student\\naccountability.',\n",
       "  'Company Name\\n \\nCity\\n \\n, \\nState\\n \\nAgriculture Teacher\\n \\n08/1995\\n \\nto \\n08/2000\\nDeveloped interesting course plans to meet academic, intellectual and social needs of students.',\n",
       "  'Developed and implemented interesting and interactive learning mediums to increase student understanding of course materials.',\n",
       "  \"Routinely met with students' parents regarding in-class issues and learning interruptions to discuss solutions.Implemented student discipline\\nmeasures, decreasing classroom disruptions by 80%.\",\n",
       "  'Accomplishments\\nCal Poly Pomona \\nPomona, CA, USA Community Involvement Been a leader with High Desert Challengers 4Hfor the last 12 years.'],\n",
       " ['Have been involved with helping the kids raise animals to learning how to sew for the San Bernardino County Fair.',\n",
       "  'Material Development\\nCreated \\nDiploma program for Adult EducationÂ \\n targeting students who have the desire to achieve receiving their diploma andÂ \\n Â \\nto create an engaging educational experience.',\n",
       "  'Lesson Planning:\\nIntroduced new learning methods to ensure total comprehension for all students.',\n",
       "  'â€‹\\nEducation\\nSubject Matter Authorization in Science: Science\\n \\n2016\\nUCR Extension Program\\n \\n:\\n \\nCrosscultural Language and Academic Dev.',\n",
       "  'Cert\\n \\n2005\\n \\nUniversity Of San Diego\\n \\n, \\nCity\\n \\n, \\nState\\n \\n, \\nUSA\\n \\nCrosscultural\\nLanguage and Academic Dev.',\n",
       "  'Cert\\nBachelor of Science\\n \\n:\\n \\nAgriculture Education\\n \\n1995\\n \\nAgriculture Education\\nAffiliations\\nNational Education Association (NEA), 1995 to present\\nCTA 1995 to present\\nSkills\\nExcellent classroom managementÂ \\nExperience working with special needs students, as I feel Ag and special needs go and and hand\\nEffectively work with parents\\nMotivating students\\nInnovative lesson planning\\nPositive atmosphere promotion\\nAdvise students on academic and vocational curricula and on career issues\\nCommunity Service']]"
      ]
     },
     "execution_count": 51,
     "metadata": {},
     "output_type": "execute_result"
    }
   ],
   "source": [
    "parts"
   ]
  },
  {
   "cell_type": "code",
   "execution_count": 61,
   "metadata": {},
   "outputs": [
    {
     "data": {
      "text/plain": [
       "ADULT EDUCATION INSTRUCTOR\n",
       "Summary\n",
       "Seasoned Agriculture Teacher with more than 20 years of experience in this world of education. Excellent teaching and leadership skills. Track\n",
       "record of achieving exceptional results in not only FFA programs but also Credit Recovery Programs at my current high school and program\n",
       "improvement in numbers at not only Covina High School but also Bloomington High School. I have also been involved with bringing to life the\n",
       "Adult Education Program in the Colton Joint Unified School District.Â Â \n",
       " Compassionate teacher excited to take on new professional challenges\n",
       "and assist studentsÂ in improving learning skills, and abilities. Hardworking and responsible professional adept at crisis response and activity\n",
       "planning.\n",
       "Experience\n",
       "Company Name\n",
       " \n",
       "City\n",
       " \n",
       ", \n",
       "State\n",
       " \n",
       "Adult Education Instructor\n",
       " \n",
       "08/2016\n",
       " \n",
       "to \n",
       "Current\n",
       " \n",
       "Developed a diploma program that fit the needs of the community,\n",
       "continues to work with the community and wants to see the students succeed move on into either industry or collegeÂ \n",
       "Company Name\n",
       " \n",
       "City\n",
       " \n",
       ", \n",
       "State\n",
       " \n",
       "Agriculture/Credit Recovery Teacher\n",
       " \n",
       "08/2000\n",
       " \n",
       "to \n",
       "Current\n",
       "Planned and conducted activities for a balanced program of instruction, demonstration, and work time that provided students with\n",
       "opportunities to observe, question, and investigate.\n",
       "Goal Setting Established clear objectives for all lessons/projects and communicated with students, achieving a total understanding of grading\n",
       "rubric and overall class expectations.\n",
       "Parent Communication Regularly met with parents to discuss student issues and course weakness areas.\n",
       "Student-Centered Curriculum Planning Developed mid-semester evaluation for students to give feedback about current curriculum and\n",
       "suggest alternative course materials and subjects for remainder of year.\n",
       "Developed interesting course plans to meet academic, intellectual and social needs of students.\n",
       "Developed and implemented interesting and interactive learning mediums to increase student understanding of course materials.\n",
       "Routinely met with students' parents regarding in-class issues and learning interruptions to discuss solutions.\n",
       "Received high remarks for the creativity of classroom lesson plans and instructional techniques from students, parents and faculty.\n",
       "Created and enforced child-based hands-on curriculum to promote student interest and receptive learning.\n",
       "Implemented student discipline measures, decreasing classroom disruptions by 80%.\n",
       "Combined discipline plan with effective measures and various lesson plans to increase concentration, participation, and progress student\n",
       "accountability.\n",
       "Company Name\n",
       " \n",
       "City\n",
       " \n",
       ", \n",
       "State\n",
       " \n",
       "Agriculture Teacher\n",
       " \n",
       "08/1995\n",
       " \n",
       "to \n",
       "08/2000\n",
       "Developed interesting course plans to meet academic, intellectual and social needs of students.\n",
       "Developed and implemented interesting and interactive learning mediums to increase student understanding of course materials.\n",
       "Routinely met with students' parents regarding in-class issues and learning interruptions to discuss solutions.Implemented student discipline\n",
       "measures, decreasing classroom disruptions by 80%.\n",
       "Accomplishments\n",
       "Cal Poly Pomona \n",
       "Pomona, CA, USA Community Involvement Been a leader with High Desert Challengers 4Hfor the last 12 years.\n",
       "Have been involved with helping the kids raise animals to learning how to sew for the San Bernardino County Fair.\n",
       "Material Development\n",
       "Created \n",
       "Diploma program for Adult EducationÂ \n",
       " targeting students who have the desire to achieve receiving their diploma andÂ \n",
       " Â \n",
       "to create an engaging educational experience.\n",
       "Lesson Planning:\n",
       "Introduced new learning methods to ensure total comprehension for all students.\n",
       "â€‹\n",
       "Education\n",
       "Subject Matter Authorization in Science: Science\n",
       " \n",
       "2016\n",
       "UCR Extension Program\n",
       " \n",
       ":\n",
       " \n",
       "Crosscultural Language and Academic Dev. Cert\n",
       " \n",
       "2005\n",
       " \n",
       "University Of San Diego\n",
       " \n",
       ", \n",
       "City\n",
       " \n",
       ", \n",
       "State\n",
       " \n",
       ", \n",
       "USA\n",
       " \n",
       "Crosscultural\n",
       "Language and Academic Dev. Cert\n",
       "Bachelor of Science\n",
       " \n",
       ":\n",
       " \n",
       "Agriculture Education\n",
       " \n",
       "1995\n",
       " \n",
       "Agriculture Education\n",
       "Affiliations\n",
       "National Education Association (NEA), 1995 to present\n",
       "CTA 1995 to present\n",
       "Skills\n",
       "Excellent classroom managementÂ \n",
       "Experience working with special needs students, as I feel Ag and special needs go and and hand\n",
       "Effectively work with parents\n",
       "Motivating students\n",
       "Innovative lesson planning\n",
       "Positive atmosphere promotion\n",
       "Advise students on academic and vocational curricula and on career issues\n",
       "Community Service"
      ]
     },
     "execution_count": 61,
     "metadata": {},
     "output_type": "execute_result"
    }
   ],
   "source": [
    "text_cv"
   ]
  },
  {
   "cell_type": "code",
   "execution_count": 81,
   "metadata": {},
   "outputs": [
    {
     "name": "stdout",
     "output_type": "stream",
     "text": [
      "../PDF_CV_DATASET/data/data/AGRICULTURE/37201447.pdf ../PDF_CV_DATASET/data/data/AGRICULTURE/12674256.pdf\n",
      "tensor([[0.8080]], grad_fn=<MmBackward0>)\n",
      "../PDF_CV_DATASET/data/data/AGRICULTURE/37201447.pdf ../PDF_CV_DATASET/data/data/AGRICULTURE/37201447.pdf\n",
      "tensor([[1.]], grad_fn=<MmBackward0>)\n",
      "../PDF_CV_DATASET/data/data/AGRICULTURE/37201447.pdf ../PDF_CV_DATASET/data/data/ARTS/73030450.pdf\n",
      "tensor([[0.8190]], grad_fn=<MmBackward0>)\n"
     ]
    }
   ],
   "source": [
    "print(PATHs[0], PATHs[1])   \n",
    "print(compute_cos_sim(PATHs[0], PATHs[1]))\n",
    "\n",
    "print(PATHs[0], PATHs[0])   \n",
    "print(compute_cos_sim(PATHs[0], PATHs[0]))\n",
    "\n",
    "print(PATHs[0], PATHs[100])   \n",
    "print(compute_cos_sim(PATHs[0], PATHs[100]))\n"
   ]
  }
 ],
 "metadata": {
  "kernelspec": {
   "display_name": "Python 3",
   "language": "python",
   "name": "python3"
  },
  "language_info": {
   "codemirror_mode": {
    "name": "ipython",
    "version": 3
   },
   "file_extension": ".py",
   "mimetype": "text/x-python",
   "name": "python",
   "nbconvert_exporter": "python",
   "pygments_lexer": "ipython3",
   "version": "3.10.9"
  }
 },
 "nbformat": 4,
 "nbformat_minor": 2
}
