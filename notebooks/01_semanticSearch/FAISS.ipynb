{
 "cells": [
  {
   "cell_type": "markdown",
   "metadata": {},
   "source": [
    "### Install packages"
   ]
  },
  {
   "cell_type": "code",
   "execution_count": null,
   "metadata": {},
   "outputs": [],
   "source": [
    "%%bash\n",
    "pip install -qqq torch\n",
    "pip install -qqq transformers\n",
    "pip install -qqq sentence-transformers\n",
    "pip install -qqq datasets\n",
    "pip install -qqq faiss-cpu\n",
    "pip install -qqq bitsandbytes\n",
    "pip install -qqq accelerate\n",
    "pip install -qqq nvidia-ml-py3\n",
    "pip install -qqq langchain"
   ]
  },
  {
   "cell_type": "markdown",
   "metadata": {},
   "source": [
    "### Imports"
   ]
  },
  {
   "cell_type": "code",
   "execution_count": 1,
   "metadata": {},
   "outputs": [
    {
     "name": "stderr",
     "output_type": "stream",
     "text": [
      "/home/andrea/anaconda3/envs/hmd/lib/python3.10/site-packages/tqdm/auto.py:21: TqdmWarning: IProgress not found. Please update jupyter and ipywidgets. See https://ipywidgets.readthedocs.io/en/stable/user_install.html\n",
      "  from .autonotebook import tqdm as notebook_tqdm\n"
     ]
    }
   ],
   "source": [
    "import psutil\n",
    "import warnings\n",
    "import nvidia_smi\n",
    "\n",
    "import torch\n",
    "import gzip\n",
    "import shutil\n",
    "\n",
    "from transformers import AutoTokenizer, AutoModelForCausalLM, BitsAndBytesConfig, pipeline\n",
    "from time  import time\n",
    "\n",
    "from langchain.vectorstores import FAISS\n",
    "from langchain.embeddings import HuggingFaceEmbeddings\n",
    "from langchain.llms import HuggingFacePipeline\n",
    "from langchain.prompts import PromptTemplate\n",
    "from langchain.schema.runnable import RunnablePassthrough\n",
    "from langchain.chains import  LLMChain\n",
    "from langchain_community.document_loaders.csv_loader import CSVLoader"
   ]
  },
  {
   "cell_type": "markdown",
   "metadata": {},
   "source": [
    "### Utils"
   ]
  },
  {
   "cell_type": "code",
   "execution_count": 2,
   "metadata": {},
   "outputs": [
    {
     "name": "stdout",
     "output_type": "stream",
     "text": [
      "Current CPU usage: 0.1%\n",
      "Current RAM usage: 1.71 GB/15.50 GB\n",
      "b'NVIDIA GeForce RTX 3070 Ti', Memory : (87.73% free): 8.00GB (total), 7.02GB (free), 0.98GB (used)\n"
     ]
    }
   ],
   "source": [
    "def show_usage():\n",
    "  print(f\"Current CPU usage: {psutil.cpu_percent(3)}%\")\n",
    "  print(f\"Current RAM usage: {psutil.virtual_memory()[3]/pow(1024,3):.2f} GB/{psutil.virtual_memory()[0]/pow(1024,3):.2f} GB\")\n",
    "\n",
    "  nvidia_smi.nvmlInit()\n",
    "\n",
    "  deviceCount = nvidia_smi.nvmlDeviceGetCount()\n",
    "  for i in range(deviceCount):\n",
    "      handle = nvidia_smi.nvmlDeviceGetHandleByIndex(i)\n",
    "      info = nvidia_smi.nvmlDeviceGetMemoryInfo(handle)\n",
    "      print(\"{}, Memory : ({:.2f}% free): {:.2f}GB (total), {:.2f}GB (free), {:.2f}GB (used)\".format(nvidia_smi.nvmlDeviceGetName(handle), 100*info.free/info.total, info.total/pow(1024,3), info.free/pow(1024,3), info.used/pow(1024,3)))\n",
    "\n",
    "  nvidia_smi.nvmlShutdown()\n",
    "\n",
    "def unzip_gzip(file_path):\n",
    "  with gzip.open(file_path, 'rb') as f_in:\n",
    "      with open(file_path[:-3], 'wb') as f_out:\n",
    "          shutil.copyfileobj(f_in, f_out)\n",
    "  return file_path[:-3]\n",
    "\n",
    "warnings.filterwarnings('ignore')\n",
    "\n",
    "show_usage()\n"
   ]
  },
  {
   "cell_type": "markdown",
   "metadata": {},
   "source": [
    "## FAISS-Mistral"
   ]
  },
  {
   "cell_type": "markdown",
   "metadata": {},
   "source": [
    "### Mistral"
   ]
  },
  {
   "cell_type": "code",
   "execution_count": 4,
   "metadata": {},
   "outputs": [
    {
     "name": "stderr",
     "output_type": "stream",
     "text": [
      "Loading checkpoint shards: 100%|██████████| 3/3 [00:06<00:00,  2.18s/it]\n"
     ]
    },
    {
     "name": "stdout",
     "output_type": "stream",
     "text": [
      "Current CPU usage: 0.2%\n",
      "Current RAM usage: 2.67 GB/15.50 GB\n",
      "b'NVIDIA GeForce RTX 3070 Ti', Memory : (2.63% free): 8.00GB (total), 0.21GB (free), 7.79GB (used)\n"
     ]
    }
   ],
   "source": [
    "model_name=\"mistralai/Mistral-7B-Instruct-v0.2\"\n",
    "\n",
    "tokenizer = AutoTokenizer.from_pretrained(model_name, trust_remote_code=True)\n",
    "tokenizer.pad_token = tokenizer.eos_token\n",
    "tokenizer.padding_side = \"right\"\n",
    "\n",
    "bnb_config = BitsAndBytesConfig(\n",
    "    load_in_4bit=True,\n",
    "    bnb_4bit_quant_type=\"nf4\",\n",
    "    bnb_4bit_compute_dtype=torch.float16,\n",
    "    bnb_4bit_use_double_quant=False,\n",
    ")\n",
    "\n",
    "model = AutoModelForCausalLM.from_pretrained(\n",
    "    model_name,\n",
    "    quantization_config=bnb_config,\n",
    "    low_cpu_mem_usage=True\n",
    ")\n",
    "\n",
    "show_usage()\n",
    "\n",
    "text_generation_pipeline = pipeline(\n",
    "    model=model,\n",
    "    tokenizer=tokenizer,\n",
    "    device_map=\"auto\",\n",
    "    task=\"text-generation\",\n",
    "    top_k=5,\n",
    "    repetition_penalty=1.1,\n",
    "    num_return_sequences=1,\n",
    "    return_full_text=True,\n",
    "    max_new_tokens=300,\n",
    "    eos_token_id=tokenizer.eos_token_id,\n",
    "    pad_token_id=tokenizer.eos_token_id,\n",
    ")\n",
    "\n",
    "prompt_template = \"\"\"<s>[INST] You are a helpful, respectful and honest assistant. Answer exactly in few words from the context\n",
    "Answer the question below from context below :\n",
    "{context}\n",
    "\n",
    "{question} [/INST] </s>\n",
    "\"\"\"\n",
    "\n",
    "mistral_llm = HuggingFacePipeline(pipeline=text_generation_pipeline)\n",
    "\n",
    "prompt = PromptTemplate(\n",
    "    input_variables=[\"context\", \"question\"],\n",
    "    template=prompt_template,\n",
    ")\n",
    "\n",
    "llm_chain = LLMChain(llm=mistral_llm, prompt=prompt)"
   ]
  },
  {
   "cell_type": "markdown",
   "metadata": {},
   "source": [
    "### FAISS"
   ]
  },
  {
   "cell_type": "code",
   "execution_count": 3,
   "metadata": {},
   "outputs": [],
   "source": [
    "data_path = \"./data/KB_user_profiles.csv.gz\"\n",
    "data_path = unzip_gzip(data_path)\n",
    "\n",
    "loader = CSVLoader(data_path)\n",
    "data = loader.load()"
   ]
  },
  {
   "cell_type": "code",
   "execution_count": 6,
   "metadata": {},
   "outputs": [
    {
     "name": "stdout",
     "output_type": "stream",
     "text": [
      "{'source': './data/KB_user_profiles.csv', 'row': 1}\n"
     ]
    }
   ],
   "source": [
    "print(data[1].metadata)"
   ]
  },
  {
   "cell_type": "code",
   "execution_count": 8,
   "metadata": {},
   "outputs": [],
   "source": [
    "# db = FAISS.from_documents(data, HuggingFaceEmbeddings(model_name='sentence-transformers/all-mpnet-base-v2'))\n",
    "# db.save_local(\"faiss_index\")\n",
    "db = FAISS.load_local(\"./faiss_index\", HuggingFaceEmbeddings(model_name='sentence-transformers/all-mpnet-base-v2'))"
   ]
  },
  {
   "cell_type": "code",
   "execution_count": 47,
   "metadata": {},
   "outputs": [
    {
     "name": "stdout",
     "output_type": "stream",
     "text": [
      "name: Xavier\n",
      "surname: Marshall\n",
      "gender: 0\n",
      "mansion: Research Engineer\n",
      "category: science\n",
      "category_id: 4\n",
      "description: I am Xavier Marshall, a Research Engineer resourceful project manager. With a tenacious fervor for web development, I bring 12 years of experience to the telecommunications domain. Recognized for my proactive project coordination, I excel in leading software development projects and consistently deliver positive outcomes.\n",
      "salary: 5070\n",
      "skills: Systems Approach, Intercultural Communication, Cultural Competence, Initiative, Team Building\n",
      "city: Tallinn\n",
      "country: Estonia\n",
      "remote_hybrid_office: 2\n",
      "relocation: 1\n",
      "current_company: BlueSkyEnergy Solutions\n",
      "part_full_time: 1\n",
      "junior_senior: 0\n",
      "experience_years: 15\n",
      "level_education: 4 \n",
      "\n",
      "name: Felix\n",
      "surname: Armstrong\n",
      "gender: 0\n",
      "mansion: Back-End Developer\n",
      "category: other\n",
      "category_id: 8\n",
      "description: I am Felix Armstrong, a Back-End Developer proactive project manager. With a versatile fervor for web development, I bring 22 years of experience to the entertainment domain. Recognized for my adaptive negotiation skills, I excel in leading software development projects and consistently deliver effective risk mitigation.\n",
      "salary: 6020\n",
      "skills: Critical Analysis, Innovation, Complexity Management, Entrepreneurial Mindset, Adaptability\n",
      "city: Nicosia\n",
      "country: Cyprus\n",
      "remote_hybrid_office: 2\n",
      "relocation: 0\n",
      "current_company: DataDrivenSecurity Systems\n",
      "part_full_time: 1\n",
      "junior_senior: 0\n",
      "experience_years: 17\n",
      "level_education: 3 \n",
      "\n",
      "name: Leo\n",
      "surname: Allen\n",
      "gender: 0\n",
      "mansion: Homeless Services Worker\n",
      "category: hospitality\n",
      "category_id: 0\n",
      "description: I am Leo Allen, a Homeless Services Worker adaptive software developer. With a versatile passion for web development, I bring 25 years of experience to the healthcare industry. Known for my meticulous creative problem-solving, I excel in designing visually appealing graphics and consistently deliver innovative solutions. In my role as a cybersecurity analyst, I've demonstrated a resourceful ability to {KEY_ACTION_OR_SKILL}, earning accolades for my proactive implemented successful marketing campaign. Colleagues often commend my versatile approach to multimedia content creation, noting my adaptive attention to detail and commitment to integrity. I thrive in dynamic environments, adapting seamlessly to personalized user experiences and embracing quantum computing. My proactive communication skills facilitate collaboration across teams, fostering a adaptive work culture. Beyond my professional endeavors, I am creative in {HOBBY_OR_INTEREST}, showcasing my adaptive dedication to continuous growth and learning. I am eager to bring my dedicated expertise to Tech Innovators Inc. and contribute to its inspiring creativity through design.\n",
      "salary: 1879\n",
      "skills: Cross-functional Collaboration, Systems Approach, Continuous Learning, Decision Quality, Storytelling\n",
      "city: Stockholm\n",
      "country: Sweden\n",
      "remote_hybrid_office: 0\n",
      "relocation: 0\n",
      "current_company: ConnectSphereTelecommunications\n",
      "part_full_time: 0\n",
      "junior_senior: 0\n",
      "experience_years: 5\n",
      "level_education: 4 \n",
      "\n",
      "name: Derek\n",
      "surname: Nelson\n",
      "gender: 1\n",
      "mansion: Web Designer\n",
      "category: technology\n",
      "category_id: 18\n",
      "description: I am Derek Nelson, a Web Designer dynamic software developer. With a meticulous passion for content creation, I bring 30 years of experience to the energy industry. Known for my proactive strategic thinking, I excel in managing cross-functional teams and consistently deliver increased market share. In my role as a financial analyst, I've demonstrated a dynamic ability to {KEY_ACTION_OR_SKILL}, earning accolades for my adaptive implemented successful marketing campaign. Colleagues often commend my tenacious approach to agile development, noting my resourceful attention to detail and commitment to customer satisfaction. I thrive in dynamic environments, adapting seamlessly to cybersecurity advancements and embracing biotechnology. My innovative communication skills facilitate collaboration across teams, fostering a versatile work culture. Beyond my professional endeavors, I am proactive in {HOBBY_OR_INTEREST}, showcasing my adaptive dedication to continuous growth and learning. I am eager to bring my resourceful expertise to Tech Innovators Inc. and contribute to its providing financial empowerment.\n",
      "salary: 1900\n",
      "skills: Resilience, Goal Setting, Resourcefulness, Team Building, Resilient Leadership\n",
      "city: Brussels\n",
      "country: Belgium\n",
      "remote_hybrid_office: 2\n",
      "relocation: 1\n",
      "current_company: PrecisionTech Manufacturing\n",
      "part_full_time: 0\n",
      "junior_senior: 1\n",
      "experience_years: 0\n",
      "level_education: 1 \n",
      "\n",
      "name: Brad\n",
      "surname: Ramirez\n",
      "gender: 0\n",
      "mansion: Full-Stack Developer\n",
      "category: technology\n",
      "category_id: 18\n",
      "description: I am Brad Ramirez, a Full-Stack Developer dynamic project manager. With a resourceful fervor for web development, I bring 12 years of experience to the finance domain. Recognized for my creative strategic thinking, I excel in risk management and consistently deliver high-quality deliverables.\n",
      "salary: 6641\n",
      "skills: Goal Setting, Data Literacy, Complexity Management, Future Thinking, Initiative\n",
      "city: Paris\n",
      "country: France\n",
      "remote_hybrid_office: 1\n",
      "relocation: 0\n",
      "current_company: FutureWave Innovations\n",
      "part_full_time: 0\n",
      "junior_senior: 1\n",
      "experience_years: 2\n",
      "level_education: 2 \n",
      "\n",
      "name: Calypso\n",
      "surname: Powell\n",
      "gender: 0\n",
      "mansion: Demolition Foreman\n",
      "category: other\n",
      "category_id: 8\n",
      "description: I am Calypso Powell, a Demolition Foreman proactive project manager. With a proactive fervor for mobile app development, I bring 22 years of experience to the telecommunications domain. Recognized for my creative creative problem-solving, I excel in leading software development projects and consistently deliver improved efficiency.\n",
      "salary: 4591\n",
      "skills: Non-linear Thinking, Attention to Detail, Cognitive Diversity, Strategic Vision, Team Building\n",
      "city: Mexico City\n",
      "country: Mexico\n",
      "remote_hybrid_office: 0\n",
      "relocation: 0\n",
      "current_company: PrecisionPharma Solutions\n",
      "part_full_time: 1\n",
      "junior_senior: 0\n",
      "experience_years: 14\n",
      "level_education: 2 \n",
      "\n",
      "name: Ben\n",
      "surname: Boyd\n",
      "gender: 1\n",
      "mansion: Environmental Engineer\n",
      "category: education\n",
      "category_id: 3\n",
      "description: I am Ben Boyd, a Environmental Engineer adaptive graphic designer. With a dynamic fervor for web development, I bring 5 years of experience to the hospitality domain. Recognized for my meticulous project coordination, I excel in leading software development projects and consistently deliver customer satisfaction.\n",
      "salary: 5540\n",
      "skills: Skeptical Inquiry, Motivational Leadership, Open to Feedback, Self-discipline, Non-linear Thinking\n",
      "city: Cape Town\n",
      "country: South Africa\n",
      "remote_hybrid_office: 0\n",
      "relocation: 1\n",
      "current_company: SynthSoft Software Solutions\n",
      "part_full_time: 0\n",
      "junior_senior: 0\n",
      "experience_years: 6\n",
      "level_education: 4 \n",
      "\n",
      "name: Zachary\n",
      "surname: Mills\n",
      "gender: 1\n",
      "mansion: Web Designer\n",
      "category: technology\n",
      "category_id: 18\n",
      "description: I am Zachary Mills, a Web Designer resourceful project manager. With a dynamic fervor for project management, I bring 8 years of experience to the education domain. Recognized for my innovative leadership abilities, I excel in leading software development projects and consistently deliver innovative solutions.\n",
      "salary: 3321\n",
      "skills: Critical Analysis, Initiative, Results-Driven, Tolerance for Ambiguity, Cross-Cultural Competence\n",
      "city: Helsinki\n",
      "country: Finland\n",
      "remote_hybrid_office: 2\n",
      "relocation: 0\n",
      "current_company: Agile Analytics Co.\n",
      "part_full_time: 0\n",
      "junior_senior: 1\n",
      "experience_years: 1\n",
      "level_education: 3 \n",
      "\n",
      "name: Zachary\n",
      "surname: Watkins\n",
      "gender: 1\n",
      "mansion: Detective\n",
      "category: finance\n",
      "category_id: 2\n",
      "description: I am Zachary Watkins, a Detective proactive software developer. With a versatile passion for web development, I bring 8 years of experience to the hospitality industry. Known for my proactive creative problem-solving, I excel in optimizing SEO strategies and consistently deliver strategic growth. In my role as a UX/UI designer, I've demonstrated a versatile ability to {KEY_ACTION_OR_SKILL}, earning accolades for my meticulous achieved ISO certification. Colleagues often commend my versatile approach to coding, noting my versatile attention to detail and commitment to social responsibility. I thrive in dynamic environments, adapting seamlessly to sustainability practices and embracing robotic process automation. My dynamic communication skills facilitate collaboration across teams, fostering a innovative work culture. Beyond my professional endeavors, I am creative in {HOBBY_OR_INTEREST}, showcasing my meticulous dedication to continuous growth and learning. I am eager to bring my creative expertise to Tech Innovators Inc. and contribute to its facilitating inclusive education.\n",
      "salary: 4635\n",
      "skills: Change Management, Visionary Leadership, Rapid Prototyping, Initiative, Conflict Resolution\n",
      "city: Windhoek\n",
      "country: Namibia\n",
      "remote_hybrid_office: 0\n",
      "relocation: 1\n",
      "current_company: SynthSoftSoftware Solutions\n",
      "part_full_time: 1\n",
      "junior_senior: 0\n",
      "experience_years: 19\n",
      "level_education: 4 \n",
      "\n",
      "name: Isaac\n",
      "surname: Perkins\n",
      "gender: 1\n",
      "mansion: Investigative Reporter\n",
      "category: media\n",
      "category_id: 5\n",
      "description: I am Isaac Perkins, a Investigative Reporter creative customer success manager. With a meticulous passion for web development, I bring 20 years of experience to the energy industry. Known for my dynamic effective communication, I excel in designing visually appealing graphics and consistently deliver improved efficiency. In my role as a financial analyst, I've demonstrated a creative ability to {KEY_ACTION_OR_SKILL}, earning accolades for my resourceful successful product launch. Colleagues often commend my versatile approach to conducting user interviews, noting my resourceful attention to detail and commitment to excellence. I thrive in dynamic environments, adapting seamlessly to cybersecurity advancements and embracing automation. My adaptive communication skills facilitate collaboration across teams, fostering a tenacious work culture. Beyond my professional endeavors, I am adaptive in {HOBBY_OR_INTEREST}, showcasing my tenacious dedication to continuous growth and learning. I am eager to bring my dedicated expertise to Tech Innovators Inc. and contribute to its transforming industries through innovation.\n",
      "salary: 5452\n",
      "skills: Attention to Detail, Customer-Centric Thinking, Systems Approach, Change Management, Experimentation\n",
      "city: Caracas\n",
      "country: Venezuela\n",
      "remote_hybrid_office: 1\n",
      "relocation: 1\n",
      "current_company: PinnacleEnergy Solutions\n",
      "part_full_time: 0\n",
      "junior_senior: 0\n",
      "experience_years: 9\n",
      "level_education: 1 \n",
      "\n"
     ]
    }
   ],
   "source": [
    "# FAISS as_retriever NO LLM\n",
    "\n",
    "query = \"I'm looking for a senior sw developer, at least 5 years of experience and a PhD\"\n",
    "\n",
    "retriever = db.as_retriever(search_kwargs={\"k\":10})\n",
    "results = retriever.invoke(query)\n",
    "\n",
    "for result in results:\n",
    "    print(result.page_content, \"\\n\")"
   ]
  },
  {
   "cell_type": "code",
   "execution_count": 48,
   "metadata": {},
   "outputs": [
    {
     "name": "stdout",
     "output_type": "stream",
     "text": [
      "name: Xavier\n",
      "surname: Marshall\n",
      "gender: 0\n",
      "mansion: Research Engineer\n",
      "category: science\n",
      "category_id: 4\n",
      "description: I am Xavier Marshall, a Research Engineer resourceful project manager. With a tenacious fervor for web development, I bring 12 years of experience to the telecommunications domain. Recognized for my proactive project coordination, I excel in leading software development projects and consistently deliver positive outcomes.\n",
      "salary: 5070\n",
      "skills: Systems Approach, Intercultural Communication, Cultural Competence, Initiative, Team Building\n",
      "city: Tallinn\n",
      "country: Estonia\n",
      "remote_hybrid_office: 2\n",
      "relocation: 1\n",
      "current_company: BlueSkyEnergy Solutions\n",
      "part_full_time: 1\n",
      "junior_senior: 0\n",
      "experience_years: 15\n",
      "level_education: 4 \n",
      "score: 0.8464797735214233 \n",
      "\n",
      "name: Felix\n",
      "surname: Armstrong\n",
      "gender: 0\n",
      "mansion: Back-End Developer\n",
      "category: other\n",
      "category_id: 8\n",
      "description: I am Felix Armstrong, a Back-End Developer proactive project manager. With a versatile fervor for web development, I bring 22 years of experience to the entertainment domain. Recognized for my adaptive negotiation skills, I excel in leading software development projects and consistently deliver effective risk mitigation.\n",
      "salary: 6020\n",
      "skills: Critical Analysis, Innovation, Complexity Management, Entrepreneurial Mindset, Adaptability\n",
      "city: Nicosia\n",
      "country: Cyprus\n",
      "remote_hybrid_office: 2\n",
      "relocation: 0\n",
      "current_company: DataDrivenSecurity Systems\n",
      "part_full_time: 1\n",
      "junior_senior: 0\n",
      "experience_years: 17\n",
      "level_education: 3 \n",
      "score: 0.857445240020752 \n",
      "\n",
      "name: Leo\n",
      "surname: Allen\n",
      "gender: 0\n",
      "mansion: Homeless Services Worker\n",
      "category: hospitality\n",
      "category_id: 0\n",
      "description: I am Leo Allen, a Homeless Services Worker adaptive software developer. With a versatile passion for web development, I bring 25 years of experience to the healthcare industry. Known for my meticulous creative problem-solving, I excel in designing visually appealing graphics and consistently deliver innovative solutions. In my role as a cybersecurity analyst, I've demonstrated a resourceful ability to {KEY_ACTION_OR_SKILL}, earning accolades for my proactive implemented successful marketing campaign. Colleagues often commend my versatile approach to multimedia content creation, noting my adaptive attention to detail and commitment to integrity. I thrive in dynamic environments, adapting seamlessly to personalized user experiences and embracing quantum computing. My proactive communication skills facilitate collaboration across teams, fostering a adaptive work culture. Beyond my professional endeavors, I am creative in {HOBBY_OR_INTEREST}, showcasing my adaptive dedication to continuous growth and learning. I am eager to bring my dedicated expertise to Tech Innovators Inc. and contribute to its inspiring creativity through design.\n",
      "salary: 1879\n",
      "skills: Cross-functional Collaboration, Systems Approach, Continuous Learning, Decision Quality, Storytelling\n",
      "city: Stockholm\n",
      "country: Sweden\n",
      "remote_hybrid_office: 0\n",
      "relocation: 0\n",
      "current_company: ConnectSphereTelecommunications\n",
      "part_full_time: 0\n",
      "junior_senior: 0\n",
      "experience_years: 5\n",
      "level_education: 4 \n",
      "score: 0.8637534379959106 \n",
      "\n",
      "name: Derek\n",
      "surname: Nelson\n",
      "gender: 1\n",
      "mansion: Web Designer\n",
      "category: technology\n",
      "category_id: 18\n",
      "description: I am Derek Nelson, a Web Designer dynamic software developer. With a meticulous passion for content creation, I bring 30 years of experience to the energy industry. Known for my proactive strategic thinking, I excel in managing cross-functional teams and consistently deliver increased market share. In my role as a financial analyst, I've demonstrated a dynamic ability to {KEY_ACTION_OR_SKILL}, earning accolades for my adaptive implemented successful marketing campaign. Colleagues often commend my tenacious approach to agile development, noting my resourceful attention to detail and commitment to customer satisfaction. I thrive in dynamic environments, adapting seamlessly to cybersecurity advancements and embracing biotechnology. My innovative communication skills facilitate collaboration across teams, fostering a versatile work culture. Beyond my professional endeavors, I am proactive in {HOBBY_OR_INTEREST}, showcasing my adaptive dedication to continuous growth and learning. I am eager to bring my resourceful expertise to Tech Innovators Inc. and contribute to its providing financial empowerment.\n",
      "salary: 1900\n",
      "skills: Resilience, Goal Setting, Resourcefulness, Team Building, Resilient Leadership\n",
      "city: Brussels\n",
      "country: Belgium\n",
      "remote_hybrid_office: 2\n",
      "relocation: 1\n",
      "current_company: PrecisionTech Manufacturing\n",
      "part_full_time: 0\n",
      "junior_senior: 1\n",
      "experience_years: 0\n",
      "level_education: 1 \n",
      "score: 0.8698914647102356 \n",
      "\n"
     ]
    }
   ],
   "source": [
    "docs_and_scores = db.similarity_search_with_score(query)\n",
    "results = docs_and_scores\n",
    "\n",
    "for doc, score in results:\n",
    "    print(doc.page_content, f\"\\nscore: {score}\", \"\\n\")"
   ]
  },
  {
   "cell_type": "code",
   "execution_count": 6,
   "metadata": {},
   "outputs": [],
   "source": [
    "retriever = db.as_retriever(search_kwargs={\"k\":3})\n",
    "rag_chain = (\n",
    " {\"context\": retriever, \"question\": RunnablePassthrough()}\n",
    "    | llm_chain\n",
    ")"
   ]
  },
  {
   "cell_type": "code",
   "execution_count": 7,
   "metadata": {},
   "outputs": [
    {
     "name": "stdout",
     "output_type": "stream",
     "text": [
      "105.34 seconds for generation\n",
      "Current CPU usage: 0.1%\n",
      "Current RAM usage: 4.86 GB/15.50 GB\n",
      "b'NVIDIA GeForce RTX 3070 Ti', Memory : (2.11% free): 8.00GB (total), 0.17GB (free), 7.83GB (used)\n"
     ]
    }
   ],
   "source": [
    "t0 = time()\n",
    "output = rag_chain.invoke(\"Find me the best candidate for a software engineering position\")\n",
    "print(f\"{time()-t0:.2f} seconds for generation\")\n",
    "\n",
    "show_usage()"
   ]
  },
  {
   "cell_type": "code",
   "execution_count": 9,
   "metadata": {},
   "outputs": [
    {
     "name": "stdout",
     "output_type": "stream",
     "text": [
      "Based on the provided context, all three candidates (Calypso Matthews, Isabel Long, and Elowen Edwards) have experience in leading software development projects. However, the best candidate for a software engineering position would depend on specific requirements and qualifications needed for the role. Here's a brief comparison of their skills mentioned in the context:\n",
      "\n",
      "* Calypso Matthews: Facilitation Skills, Critical Analysis, Learning Agility, Networking, Analytical Thinking\n",
      "* Isabel Long: Change Adaptability, Effective Communication, Intrapreneurship, Curiosity, Experimentation\n",
      "* Elowen Edwards: Data-Driven Decision-Making, Conflict Resolution, Influence and Persuasion, Interdisciplinary Collaboration, Cognitive Diversity\n",
      "\n",
      "Without knowing which skills are most important for the software engineering position, it is difficult to determine which candidate is the best fit based on the given context alone. It may be necessary to consider other factors such as education level, experience years, and industry expertise to make an informed decision.\n"
     ]
    }
   ],
   "source": [
    "print(output[\"text\"])"
   ]
  }
 ],
 "metadata": {
  "kernelspec": {
   "display_name": "rasa",
   "language": "python",
   "name": "python3"
  },
  "language_info": {
   "codemirror_mode": {
    "name": "ipython",
    "version": 3
   },
   "file_extension": ".py",
   "mimetype": "text/x-python",
   "name": "python",
   "nbconvert_exporter": "python",
   "pygments_lexer": "ipython3",
   "version": "3.10.13"
  }
 },
 "nbformat": 4,
 "nbformat_minor": 2
}
